{
 "cells": [
  {
   "cell_type": "code",
   "execution_count": 21,
   "metadata": {},
   "outputs": [],
   "source": [
    "url= \"https://edition.cnn.com/\""
   ]
  },
  {
   "cell_type": "code",
   "execution_count": 20,
   "metadata": {},
   "outputs": [
    {
     "name": "stdout",
     "output_type": "stream",
     "text": [
      "http://cnn.com\n"
     ]
    }
   ],
   "source": [
    "print(url)"
   ]
  },
  {
   "cell_type": "code",
   "execution_count": 19,
   "metadata": {},
   "outputs": [],
   "source": [
    "from bs4 import BeautifulSoup\n",
    "import requests\n",
    "import csv "
   ]
  },
  {
   "cell_type": "code",
   "execution_count": 4,
   "metadata": {},
   "outputs": [],
   "source": [
    "html=requests.get(url).text"
   ]
  },
  {
   "cell_type": "code",
   "execution_count": 5,
   "metadata": {},
   "outputs": [
    {
     "name": "stdout",
     "output_type": "stream",
     "text": [
      "<title>CNN International - Breaking News, US News, World News and Video</title>\n"
     ]
    }
   ],
   "source": [
    "soup=BeautifulSoup(html)\n",
    "print(soup.title)"
   ]
  },
  {
   "cell_type": "code",
   "execution_count": null,
   "metadata": {},
   "outputs": [],
   "source": []
  },
  {
   "cell_type": "code",
   "execution_count": 6,
   "metadata": {},
   "outputs": [
    {
     "name": "stdout",
     "output_type": "stream",
     "text": [
      "None\n"
     ]
    }
   ],
   "source": [
    "print(soup.content)"
   ]
  },
  {
   "cell_type": "code",
   "execution_count": 44,
   "metadata": {},
   "outputs": [
    {
     "name": "stdout",
     "output_type": "stream",
     "text": [
      "Obama issues a dire warning about American democracy in stunning rebuke of Trump  - CNNPolitics\n",
      "\n",
      "Analysis by Stephen Collinson, CNN\n",
      "\n",
      "Updated 1115 GMT (1915 HKT) August 20, 2020 \n",
      "\n",
      "The latest installment of the long duel between Barack Obama and Donald Trump perfectly exemplified the jarring contrasts in personal and political temperaments of the two defining White House residents of this age. And it took their rivalry to a level unprecedented in the modern history of the presidency.\n",
      "\n",
      "Obama -- serious and intellectual -- delivered a complex constitutional lecture on primetime television during the virtual Democratic National Convention. He summoned historic sweep, encompassing the Founders, the Civil Rights Movement, America's immigrant heritage and young Americans he called to action today to save their freedoms just as their ancestors had done every time the country's promise was imperiled.\n",
      "\n",
      "READ: Obama's full speech to the Democratic National Convention\n",
      "\n",
      "Trump meanwhile, back at the White House, was rage-tweeting in real time in all-caps, flinging wild accusations and lies that, if anything, provided contemporaneous evidence of his predecessor's somber warnings.\n",
      "\n",
      "In 2004, Obama made his name with the youthful, exuberant -- and perhaps naive -- hope of his address to the DNC. Sixteen years on, a grizzled Obama the elder warned America that it should expect a \"president to be the custodian of this democracy.\"\n",
      "\n",
      "\"We should expect that regardless of ego, ambition, or political beliefs, the president will preserve, protect, and defend the freedoms and ideals that so many Americans marched for and went to jail for; fought for and died for,\" he said.\n",
      "\n",
      "Obama, now a private citizen, has no formal power and no mandate to speak to the American people the way he did Wednesday night, at a virtual convention that in its crowd-free isolation served to underscore the grave nature of his message.\n",
      "\n",
      "But he carries the authority of his historic status, the moral weight of two White House terms and enduring popularity in the half of the country revolted by Trump's abuses of power, divisive racial politics and constant cultivation of his own ego.\n",
      "\n",
      "And Obama's breach of etiquette for retired presidents was preceded by years of Trump attacking him in ways never previously seen by an American presidential successor, with Trump routinely, baselessly accusing Obama of treason.\n",
      "\n",
      "The former President presented himself as a guardian of democracy, of 243 years of Constitutional norms and authority borrowed from the masses not imposed from a strongman leader from above.\n",
      "\n",
      "\"Do not let them take away your power. Don't let them take away your democracy,\" Obama said in a plea that was far deeper than a political leader's repudiation of the legacy destroying policies of his predecessor.\n",
      "\n",
      "\"Make a plan right now for how you're going to get involved and vote. Do it as early as you can and tell your family and friends how they can vote too,\" Obama said, accusing the Trump administration of suppressing the vote and counting on the cynicism of the people to guarantee four more years.\n",
      "\n",
      "\"What we do echoes through the generations,\" Obama said, in what amounted to probably the most watched lecture on America's constitutional heritage in history.\n",
      "\n",
      "A long-awaited salvo\n",
      "\n",
      "Democrats have waited four years for Obama to speak up in such a way. But had he carried on a daily commentary on Trump's outrages, the former commander in chief's warning on Wednesday would have lacked impact as well as the stock of political capital his reticence built among sympathetic voters.\n",
      "\n",
      "He rebuked Trump in stunningly explicit terms for a member of the presidents club -- a fraternity the current commander in chief disdains.\n",
      "\n",
      "\"I never expected that my successor would embrace my vision or continue my policies. I did hope, for the sake of our country, that Donald Trump might show some interest in taking the job seriously; that he might come to feel the weight of the office and discover some reverence for the democracy that had been placed in his care,\" Obama said.\n",
      "\n",
      "\"But he never did. For close to four years now, he's shown no interest in putting in the work; no interest in finding common ground; no interest in using the awesome power of his office to help anyone but himself and his friends; no interest in treating the presidency as anything but one more reality show that he can use to get the attention he craves.\n",
      "\n",
      "\"Donald Trump hasn't grown into the job because he can't.\"\n",
      "\n",
      "It was a picture of Trump's presidency that is familiar from scores of tell-all books, insider and media accounts and the evidence of a publicity-hungry President who awards himself top marks even in a pandemic that has killed more than 170,000 Americans that he ignored, mismanaged and misrepresented.\n",
      "\n",
      "Obama's remarks did not come in a vacuum. Only hours earlier, Trump had all but endorsed the cult-like and nonsensical conspiracy theory QAnon from the White House podium. The President is spreading false claims about massive fraud in postal voting. He sought to coerce a foreign power into destroying the candidacy of Democratic nominee Joe Biden, for which he was impeached.\n",
      "\n",
      "Trump has ignored or attacked every institution that can hold him to account from Congress to the courts, the Justice Department, military brass and the press. He retweets Russian intelligence propaganda. Any restraining influences in his Cabinet have long since been purged. He may have already crushed the legitimacy of any Biden win in November by warning any election he loses will be \"rigged.\" White House press secretary Kayleigh McEnany refused hours earlier to state that the President would accept the result of the election. In any other administration this would be a defining scandal. In this White House it barely merited comment.\n",
      "\n",
      "In many ways, Trump's entire presidency has unfolded as an attempt to wipe Obama -- who he relentlessly attacked in a racist birther conspiracy that built his political movement -- from the pages of history. On Wednesday for instance, he made yet another attempt to destroy the Iran nuclear deal that is Obama's most significant foreign policy achievement.\n",
      "\n",
      "Trump's presidency can also be seen as a backlash to the social change on issues like LGBTQ rights, the introduction of a near universal health care system and the reality of a Black president during the Obama years.\n",
      "\n",
      "A battle that will define an era\n",
      "\n",
      "Wednesday's exchanges underscored how this election will decide whether the dominant political strain in America is the populist demagoguery and culturally White movement offered by Trump or the multi-cultural  aspirational crusade of Obama Democrats appealing to an increasingly diverse nation.\n",
      "\n",
      "The President's first response to the speech was to falsely accuse Obama of spying on him in 2016, after a new report from a Republican-led Senate committee confirmed multiple contacts between his campaign and Russia in 2016.\n",
      "\n",
      "\"HE SPIED ON MY CAMPAIGN, AND GOT CAUGHT!\" Trump tweeted, twisting the factual record about that previous election.\n",
      "\n",
      "The President's reaction was a reminder of how he has based his entire term on a tide of conspiracy, misinformation and demonstrable untruth.\n",
      "\n",
      "But it also hinted at a potential weakness of Obama's argument, one that has been made in less eloquent terms throughout the Democratic convention.\n",
      "\n",
      "Speaker after speaker has said that Trump is a bad president and lacks the emotional and cerebral qualities or the sense of national well-being and civic responsibility needed for the presidency.\n",
      "\n",
      "Obama got it half right when he said Trump didn't even try.\n",
      "\n",
      "But that is the entire point of Trump's presidency. He came to power determined to destroy the American status quo. Norms, laws, traditions mean nothing to him since the presidency is just another stage on which to pursue his personal goals and to dominate the airwaves and national life.\n",
      "\n",
      "His misbehavior and unconstitutional behavior that those who agree with Obama find disgraceful and threatening to the republic itself is the reason why millions of his followers -- angry at the elites they believe shore up a political system that ignores and disdains them -- are devoted to him.\n",
      "\n",
      "But Obama rejected defeatism about democracy and said time and again the ancestors of modern Americans had faced the same doubts -- from Dust Bowl farmers, to Italian and Irish immigrants, and Latinos and Jews and those repressed by Jim Crow segregation in the South -- but had resolved to make the American system work.\n",
      "\n",
      "\"Any chance of success\" now depends entirely on the outcome of this election, he said.\n",
      "\n",
      "\"This administration has shown it will tear our democracy down if that's what it takes to win,\"  he said, calling for a huge vote of support for the Democratic ticket of Joe Biden and Kamala Harris.\n",
      "\n"
     ]
    }
   ],
   "source": [
    "news_box=soup.find_all('h3',{'class': 'cd__headline'})\n",
    "print(soup.title.string)\n",
    "print()\n",
    "\n",
    "'''news_author=soup.find(itemprop = 'author')\n",
    "print(news_author.get_content)\n",
    "print()\n",
    "'''\n",
    "news_author=soup.find('meta',itemprop = 'author')\n",
    "print(news_author[\"content\"])\n",
    "print()\n",
    "\n",
    "news_time=soup.find('p', {'class' : 'update-time'} )\n",
    "print(news_time.text)\n",
    "print()\n",
    "\n",
    "\n",
    "#news_head=soup.find('h1',{'class': 'pg-headline'})\n",
    "\n",
    "#print(news_head)\n",
    "\n",
    "newsstr=\"\"\n",
    "\n",
    "for news in news_box:\n",
    "    newsstr+=news.text\n",
    "    print(news.text)\n",
    "    print()"
   ]
  },
  {
   "cell_type": "code",
   "execution_count": 13,
   "metadata": {},
   "outputs": [
    {
     "name": "stdout",
     "output_type": "stream",
     "text": [
      "[<a aria-label=\"CNN\" class=\"Text-sc-1amvtpj-0-a Link-sc-1hkqz5e-0 jlzTwO\" color=\"#0C0C0C\" data-analytics=\"header_top-nav\" href=\"/\" mode=\"light\"><svg aria-hidden=\"true\" class=\"cnn-badge-icon\" fill=\"#CC0000\" height=\"40\" style=\"outline:0\" viewbox=\"0 0 240 240\" width=\"40\" xmlns=\"https://www.w3.org/2000/svg\"><rect fill=\"#fff\" height=\"100%\" width=\"100%\" x=\"0\" y=\"0\"></rect><path d=\"M.31-.07v240h240V-.07ZM86.54,135.29V92.51c0-16.1,20.81-23.83,31.82-5.12.8,1.35,18.14,31.22,18.14,31.22V92.51c0-16.1,20.8-23.83,31.81-5.12.8,1.35,18.14,31.22,18.14,31.22V76.79h10.38V147a2.11,2.11,0,0,1-1.51,2.14c-1.1.3-2.26-.38-3.11-1.82-.17-.28-9-15.46-17.48-30.13L159.17,90.4c-2.18-3.7-5.43-4.35-7.74-3.72a6.23,6.23,0,0,0-4.55,6.13V147a2.12,2.12,0,0,1-1.51,2.14c-1.11.3-2.27-.38-3.11-1.82-.15-.25-8.34-14.36-16.25-28-10.08-17.38-16.7-28.78-16.8-28.95-2.18-3.71-5.44-4.35-7.77-3.72a6.24,6.24,0,0,0-4.56,6.13v53.05a2.9,2.9,0,0,1-2.72,2.71H67.23a28.64,28.64,0,0,1,0-57.28h14v10.36H67.35a18.28,18.28,0,1,0,0,36.56H83.68A2.84,2.84,0,0,0,86.54,135.29Zm124.77,12.05c0,16.1-20.81,23.83-31.82,5.13-.79-1.35-18.14-31.23-18.14-31.23v26.1c0,16.1-20.8,23.83-31.81,5.13-.8-1.35-18.14-31.23-18.14-31.23v24.61c0,11.17-6.63,17.22-17,17.22H67.25a43.14,43.14,0,0,1,0-86.28h14V87.15h-14a32.78,32.78,0,1,0,0,65.56H94.16a7,7,0,0,0,6.86-6.85V92.81a2.1,2.1,0,0,1,1.51-2.13c1.1-.3,2.26.38,3.11,1.82l16.79,28.93c9.76,16.83,16.17,27.88,16.25,28,2.19,3.7,5.45,4.35,7.78,3.71A6.22,6.22,0,0,0,151,147V92.82a2.11,2.11,0,0,1,1.49-2.14c1.09-.3,2.24.38,3.08,1.82l15.56,26.81,17.49,30.15c1.71,2.9,4.09,3.93,6.16,3.93a6,6,0,0,0,1.61-.22A6.23,6.23,0,0,0,201,147V76.79h10.34Z\" transform=\"translate(-0.31 0.07)\"></path></svg></a>, <a class=\"sc-jzJRlG sc-kgoBCf fqbFTu\" data-analytics=\"header_top-nav\" href=\"/world\" mode=\"dark\" name=\"world\" title=\"visit the World section\" type=\"collapsed\">World</a>, <a class=\"sc-jzJRlG sc-kgoBCf fqbFTu\" data-analytics=\"header_top-nav\" href=\"/politics\" mode=\"dark\" name=\"politics\" title=\"visit the US Politics section\" type=\"collapsed\">US Politics</a>, <a class=\"sc-jzJRlG sc-kgoBCf fqbFTu\" data-analytics=\"header_top-nav\" href=\"/business\" mode=\"dark\" name=\"business\" title=\"visit the Business section\" type=\"collapsed\">Business</a>, <a class=\"sc-jzJRlG sc-kgoBCf fqbFTu\" data-analytics=\"header_top-nav\" href=\"/health\" mode=\"dark\" name=\"health\" title=\"visit the Health section\" type=\"collapsed\">Health</a>, <a class=\"sc-jzJRlG sc-kgoBCf fqbFTu\" data-analytics=\"header_top-nav\" href=\"/entertainment\" mode=\"dark\" name=\"entertainment\" title=\"visit the Entertainment section\" type=\"collapsed\">Entertainment</a>, <a class=\"sc-jzJRlG sc-kgoBCf fqbFTu\" data-analytics=\"header_top-nav\" href=\"/style\" mode=\"dark\" name=\"style\" title=\"visit the Style section\" type=\"collapsed\">Style</a>, <a class=\"sc-jzJRlG sc-kgoBCf fqbFTu\" data-analytics=\"header_top-nav\" href=\"/travel\" mode=\"dark\" name=\"travel\" title=\"visit the Travel section\" type=\"collapsed\">Travel</a>, <a class=\"sc-jzJRlG sc-kgoBCf fqbFTu\" data-analytics=\"header_top-nav\" href=\"/sport\" mode=\"dark\" name=\"sport\" title=\"visit the Sports section\" type=\"collapsed\">Sports</a>, <a class=\"sc-jzJRlG sc-kgoBCf fqbFTu\" data-analytics=\"header_top-nav\" href=\"/videos\" mode=\"dark\" name=\"videos\" title=\"visit the Videos section\" type=\"collapsed\">Videos</a>, <a class=\"Text-sc-1amvtpj-0-a Link-sc-1hkqz5e-0 sc-csuQGl gnstlW\" color=\"#0C0C0C\" data-selected=\"false\" href=\"//us.cnn.com?hpt=header_edition-picker\" mode=\"light\" name=\"domestic\">U.S.</a>, <a class=\"Text-sc-1amvtpj-0-a Link-sc-1hkqz5e-0 sc-csuQGl gnstlW\" color=\"#0C0C0C\" data-selected=\"true\" href=\"//edition.cnn.com?hpt=header_edition-picker\" mode=\"light\" name=\"international\">International</a>, <a class=\"Text-sc-1amvtpj-0-a Link-sc-1hkqz5e-0 sc-csuQGl gnstlW\" color=\"#0C0C0C\" data-selected=\"false\" href=\"//arabic.cnn.com?hpt=header_edition-picker\" mode=\"light\" name=\"arabic\">Arabic</a>, <a class=\"Text-sc-1amvtpj-0-a Link-sc-1hkqz5e-0 sc-csuQGl gnstlW\" color=\"#0C0C0C\" data-selected=\"false\" href=\"//cnnespanol.cnn.com?hpt=header_edition-picker\" mode=\"light\" name=\"espanol\">Español</a>, <a class=\"Text-sc-1amvtpj-0-a Link-sc-1hkqz5e-0 sc-csuQGl gnstlW\" color=\"#0C0C0C\" data-selected=\"false\" href=\"//us.cnn.com?hpt=header_edition-picker\" mode=\"light\" name=\"domestic\">U.S.</a>, <a class=\"Text-sc-1amvtpj-0-a Link-sc-1hkqz5e-0 sc-csuQGl gnstlW\" color=\"#0C0C0C\" data-selected=\"true\" href=\"//edition.cnn.com?hpt=header_edition-picker\" mode=\"light\" name=\"international\">International</a>, <a class=\"Text-sc-1amvtpj-0-a Link-sc-1hkqz5e-0 sc-csuQGl gnstlW\" color=\"#0C0C0C\" data-selected=\"false\" href=\"//arabic.cnn.com?hpt=header_edition-picker\" mode=\"light\" name=\"arabic\">Arabic</a>, <a class=\"Text-sc-1amvtpj-0-a Link-sc-1hkqz5e-0 sc-csuQGl gnstlW\" color=\"#0C0C0C\" data-selected=\"false\" href=\"//cnnespanol.cnn.com?hpt=header_edition-picker\" mode=\"light\" name=\"espanol\">Español</a>, <a class=\"sc-jzJRlG sc-kgoBCf bVNVsM\" data-analytics=\"header_expanded-nav\" href=\"/world\" mode=\"dark\" name=\"world\" title=\"visit the World section\" type=\"expanded\">World</a>, <a class=\"sc-jzJRlG sc-dxgOiQ hBCcvP\" data-analytics=\"header_expanded-nav\" href=\"/africa\" mode=\"dark\" name=\"africa\" title=\"visit the Africa section\" type=\"expanded\">Africa</a>, <a class=\"sc-jzJRlG sc-dxgOiQ hBCcvP\" data-analytics=\"header_expanded-nav\" href=\"/americas\" mode=\"dark\" name=\"americas\" title=\"visit the Americas section\" type=\"expanded\">Americas</a>, <a class=\"sc-jzJRlG sc-dxgOiQ hBCcvP\" data-analytics=\"header_expanded-nav\" href=\"/asia\" mode=\"dark\" name=\"asia\" title=\"visit the Asia section\" type=\"expanded\">Asia</a>, <a class=\"sc-jzJRlG sc-dxgOiQ hBCcvP\" data-analytics=\"header_expanded-nav\" href=\"/australia\" mode=\"dark\" name=\"australia\" title=\"visit the Australia section\" type=\"expanded\">Australia</a>, <a class=\"sc-jzJRlG sc-dxgOiQ hBCcvP\" data-analytics=\"header_expanded-nav\" href=\"/china\" mode=\"dark\" name=\"china\" title=\"visit the China section\" type=\"expanded\">China</a>, <a class=\"sc-jzJRlG sc-dxgOiQ hBCcvP\" data-analytics=\"header_expanded-nav\" href=\"/europe\" mode=\"dark\" name=\"europe\" title=\"visit the Europe section\" type=\"expanded\">Europe</a>, <a class=\"sc-jzJRlG sc-dxgOiQ hBCcvP\" data-analytics=\"header_expanded-nav\" href=\"/india\" mode=\"dark\" name=\"india\" title=\"visit the India section\" type=\"expanded\">India</a>, <a class=\"sc-jzJRlG sc-dxgOiQ hBCcvP\" data-analytics=\"header_expanded-nav\" href=\"/middle-east\" mode=\"dark\" name=\"middleeast\" title=\"visit the Middle East section\" type=\"expanded\">Middle East</a>, <a class=\"sc-jzJRlG sc-dxgOiQ hBCcvP\" data-analytics=\"header_expanded-nav\" href=\"/uk\" mode=\"dark\" name=\"uk\" title=\"visit the United Kingdom section\" type=\"expanded\">United Kingdom</a>, <a class=\"sc-jzJRlG sc-kgoBCf bVNVsM\" data-analytics=\"header_expanded-nav\" href=\"/politics\" mode=\"dark\" name=\"politics\" title=\"visit the US Politics section\" type=\"expanded\">US Politics</a>, <a class=\"sc-jzJRlG sc-dxgOiQ hBCcvP\" data-analytics=\"header_expanded-nav\" href=\"/election/2020\" mode=\"dark\" name=\"2020-election\" title=\"visit the 2020 Election section\" type=\"expanded\">2020 Election</a>, <a class=\"sc-jzJRlG sc-dxgOiQ hBCcvP\" data-analytics=\"header_expanded-nav\" href=\"/specials/politics/president-donald-trump-45\" mode=\"dark\" name=\"president\" title=\"visit the Donald Trump section\" type=\"expanded\">Donald Trump</a>, <a class=\"sc-jzJRlG sc-dxgOiQ hBCcvP\" data-analytics=\"header_expanded-nav\" href=\"/specials/politics/supreme-court-nine\" mode=\"dark\" name=\"scotus\" title=\"visit the Supreme Court section\" type=\"expanded\">Supreme Court</a>, <a class=\"sc-jzJRlG sc-dxgOiQ hBCcvP\" data-analytics=\"header_expanded-nav\" href=\"/specials/politics/congress\" mode=\"dark\" name=\"congress\" title=\"visit the Congress section\" type=\"expanded\">Congress</a>, <a class=\"sc-jzJRlG sc-dxgOiQ hBCcvP\" data-analytics=\"header_expanded-nav\" href=\"/specials/politics/fact-check-politics\" mode=\"dark\" name=\"facts-first\" title=\"visit the Facts First section\" type=\"expanded\">Facts First</a>, <a class=\"sc-jzJRlG sc-kgoBCf bVNVsM\" data-analytics=\"header_expanded-nav\" href=\"/business\" mode=\"dark\" name=\"business\" title=\"visit the Business section\" type=\"expanded\">Business</a>, <a class=\"sc-jzJRlG sc-dxgOiQ hBCcvP\" data-analytics=\"header_expanded-nav\" href=\"https://money.cnn.com/data/markets/\" mode=\"dark\" name=\"markets\" title=\"visit the Markets section\" type=\"expanded\">Markets</a>, <a class=\"sc-jzJRlG sc-dxgOiQ hBCcvP\" data-analytics=\"header_expanded-nav\" href=\"/business/tech\" mode=\"dark\" name=\"tech\" title=\"visit the Tech section\" type=\"expanded\">Tech</a>, <a class=\"sc-jzJRlG sc-dxgOiQ hBCcvP\" data-analytics=\"header_expanded-nav\" href=\"/business/media\" mode=\"dark\" name=\"media\" title=\"visit the Media section\" type=\"expanded\">Media</a>, <a class=\"sc-jzJRlG sc-dxgOiQ hBCcvP\" data-analytics=\"header_expanded-nav\" href=\"/business/success\" mode=\"dark\" name=\"success\" title=\"visit the Success section\" type=\"expanded\">Success</a>, <a class=\"sc-jzJRlG sc-dxgOiQ hBCcvP\" data-analytics=\"header_expanded-nav\" href=\"/business/perspectives\" mode=\"dark\" name=\"perspectives\" title=\"visit the Perspectives section\" type=\"expanded\">Perspectives</a>, <a class=\"sc-jzJRlG sc-dxgOiQ hBCcvP\" data-analytics=\"header_expanded-nav\" href=\"/business/videos\" mode=\"dark\" name=\"business-videos\" title=\"visit the Videos section\" type=\"expanded\">Videos</a>, <a class=\"sc-jzJRlG sc-kgoBCf bVNVsM\" data-analytics=\"header_expanded-nav\" href=\"/health\" mode=\"dark\" name=\"health\" title=\"visit the Health section\" type=\"expanded\">Health</a>, <a class=\"sc-jzJRlG sc-dxgOiQ hBCcvP\" data-analytics=\"header_expanded-nav\" href=\"/specials/health/food-diet\" mode=\"dark\" name=\"food\" title=\"visit the Food section\" type=\"expanded\">Food</a>, <a class=\"sc-jzJRlG sc-dxgOiQ hBCcvP\" data-analytics=\"header_expanded-nav\" href=\"/specials/health/fitness-excercise\" mode=\"dark\" name=\"fitness\" title=\"visit the Fitness section\" type=\"expanded\">Fitness</a>, <a class=\"sc-jzJRlG sc-dxgOiQ hBCcvP\" data-analytics=\"header_expanded-nav\" href=\"/specials/health/wellness\" mode=\"dark\" name=\"wellness\" title=\"visit the Wellness section\" type=\"expanded\">Wellness</a>, <a class=\"sc-jzJRlG sc-dxgOiQ hBCcvP\" data-analytics=\"header_expanded-nav\" href=\"/specials/health/parenting\" mode=\"dark\" name=\"parenting\" title=\"visit the Parenting section\" type=\"expanded\">Parenting</a>, <a class=\"sc-jzJRlG sc-dxgOiQ hBCcvP\" data-analytics=\"header_expanded-nav\" href=\"/specials/health/vital-signs\" mode=\"dark\" name=\"vital-signs\" title=\"visit the Vital Signs section\" type=\"expanded\">Vital Signs</a>, <a class=\"sc-jzJRlG sc-kgoBCf bVNVsM\" data-analytics=\"header_expanded-nav\" href=\"/entertainment\" mode=\"dark\" name=\"entertainment\" title=\"visit the Entertainment section\" type=\"expanded\">Entertainment</a>, <a class=\"sc-jzJRlG sc-dxgOiQ hBCcvP\" data-analytics=\"header_expanded-nav\" href=\"/entertainment/celebrities\" mode=\"dark\" name=\"stars\" title=\"visit the Stars section\" type=\"expanded\">Stars</a>, <a class=\"sc-jzJRlG sc-dxgOiQ hBCcvP\" data-analytics=\"header_expanded-nav\" href=\"/entertainment/movies\" mode=\"dark\" name=\"screen\" title=\"visit the Screen section\" type=\"expanded\">Screen</a>, <a class=\"sc-jzJRlG sc-dxgOiQ hBCcvP\" data-analytics=\"header_expanded-nav\" href=\"/entertainment/tv-shows\" mode=\"dark\" name=\"binge\" title=\"visit the Binge section\" type=\"expanded\">Binge</a>, <a class=\"sc-jzJRlG sc-dxgOiQ hBCcvP\" data-analytics=\"header_expanded-nav\" href=\"/entertainment/culture\" mode=\"dark\" name=\"culture\" title=\"visit the Culture section\" type=\"expanded\">Culture</a>, <a class=\"sc-jzJRlG sc-dxgOiQ hBCcvP\" data-analytics=\"header_expanded-nav\" href=\"/business/media\" mode=\"dark\" name=\"media\" title=\"visit the Media section\" type=\"expanded\">Media</a>, <a class=\"sc-jzJRlG sc-kgoBCf bVNVsM\" data-analytics=\"header_expanded-nav\" href=\"/business/tech\" mode=\"dark\" name=\"tech\" title=\"visit the Tech section\" type=\"expanded\">Tech</a>, <a class=\"sc-jzJRlG sc-dxgOiQ hBCcvP\" data-analytics=\"header_expanded-nav\" href=\"/specials/tech/innovate\" mode=\"dark\" name=\"innovate\" title=\"visit the Innovate section\" type=\"expanded\">Innovate</a>, <a class=\"sc-jzJRlG sc-dxgOiQ hBCcvP\" data-analytics=\"header_expanded-nav\" href=\"/specials/tech/gadget\" mode=\"dark\" name=\"gadget\" title=\"visit the Gadget section\" type=\"expanded\">Gadget</a>, <a class=\"sc-jzJRlG sc-dxgOiQ hBCcvP\" data-analytics=\"header_expanded-nav\" href=\"/specials/tech/foreseeable-future\" mode=\"dark\" name=\"foreseeable-future\" title=\"visit the Foreseeable Future section\" type=\"expanded\">Foreseeable Future</a>, <a class=\"sc-jzJRlG sc-dxgOiQ hBCcvP\" data-analytics=\"header_expanded-nav\" href=\"/specials/tech/mission-ahead\" mode=\"dark\" name=\"mission-ahead\" title=\"visit the Mission: Ahead section\" type=\"expanded\">Mission: Ahead</a>, <a class=\"sc-jzJRlG sc-dxgOiQ hBCcvP\" data-analytics=\"header_expanded-nav\" href=\"/specials/tech/upstarts\" mode=\"dark\" name=\"upstarts\" title=\"visit the Upstarts section\" type=\"expanded\">Upstarts</a>, <a class=\"sc-jzJRlG sc-dxgOiQ hBCcvP\" data-analytics=\"header_expanded-nav\" href=\"/specials/tech/work-transformed\" mode=\"dark\" name=\"work-transformed\" title=\"visit the Work Transformed section\" type=\"expanded\">Work Transformed</a>, <a class=\"sc-jzJRlG sc-dxgOiQ hBCcvP\" data-analytics=\"header_expanded-nav\" href=\"/specials/tech/innovative-cities\" mode=\"dark\" name=\"innovative-cities\" title=\"visit the Innovative Cities section\" type=\"expanded\">Innovative Cities</a>, <a class=\"sc-jzJRlG sc-kgoBCf bVNVsM\" data-analytics=\"header_expanded-nav\" href=\"/style\" mode=\"dark\" name=\"style\" title=\"visit the Style section\" type=\"expanded\">Style</a>, <a class=\"sc-jzJRlG sc-dxgOiQ hBCcvP\" data-analytics=\"header_expanded-nav\" href=\"/style/arts\" mode=\"dark\" name=\"arts\" title=\"visit the Arts section\" type=\"expanded\">Arts</a>, <a class=\"sc-jzJRlG sc-dxgOiQ hBCcvP\" data-analytics=\"header_expanded-nav\" href=\"/style/design\" mode=\"dark\" name=\"design\" title=\"visit the Design section\" type=\"expanded\">Design</a>, <a class=\"sc-jzJRlG sc-dxgOiQ hBCcvP\" data-analytics=\"header_expanded-nav\" href=\"/style/fashion\" mode=\"dark\" name=\"fashion\" title=\"visit the Fashion section\" type=\"expanded\">Fashion</a>, <a class=\"sc-jzJRlG sc-dxgOiQ hBCcvP\" data-analytics=\"header_expanded-nav\" href=\"/style/architecture\" mode=\"dark\" name=\"architecture\" title=\"visit the Architecture section\" type=\"expanded\">Architecture</a>, <a class=\"sc-jzJRlG sc-dxgOiQ hBCcvP\" data-analytics=\"header_expanded-nav\" href=\"/style/luxury\" mode=\"dark\" name=\"luxury\" title=\"visit the Luxury section\" type=\"expanded\">Luxury</a>, <a class=\"sc-jzJRlG sc-dxgOiQ hBCcvP\" data-analytics=\"header_expanded-nav\" href=\"/style/beauty\" mode=\"dark\" name=\"beauty\" title=\"visit the Beauty section\" type=\"expanded\">Beauty</a>, <a class=\"sc-jzJRlG sc-dxgOiQ hBCcvP\" data-analytics=\"header_expanded-nav\" href=\"/style/videos\" mode=\"dark\" name=\"Video\" title=\"visit the Video section\" type=\"expanded\">Video</a>, <a class=\"sc-jzJRlG sc-kgoBCf bVNVsM\" data-analytics=\"header_expanded-nav\" href=\"/travel\" mode=\"dark\" name=\"travel\" title=\"visit the Travel section\" type=\"expanded\">Travel</a>, <a class=\"sc-jzJRlG sc-dxgOiQ hBCcvP\" data-analytics=\"header_expanded-nav\" href=\"/travel/destinations\" mode=\"dark\" name=\"destinations\" title=\"visit the Destinations section\" type=\"expanded\">Destinations</a>, <a class=\"sc-jzJRlG sc-dxgOiQ hBCcvP\" data-analytics=\"header_expanded-nav\" href=\"/travel/food-and-drink\" mode=\"dark\" name=\"foodanddrink\" title=\"visit the Food and Drink section\" type=\"expanded\">Food and Drink</a>, <a class=\"sc-jzJRlG sc-dxgOiQ hBCcvP\" data-analytics=\"header_expanded-nav\" href=\"/travel/stay\" mode=\"dark\" name=\"Stay\" title=\"visit the Stay section\" type=\"expanded\">Stay</a>, <a class=\"sc-jzJRlG sc-dxgOiQ hBCcvP\" data-analytics=\"header_expanded-nav\" href=\"/travel/news\" mode=\"dark\" name=\"News\" title=\"visit the News section\" type=\"expanded\">News</a>, <a class=\"sc-jzJRlG sc-dxgOiQ hBCcvP\" data-analytics=\"header_expanded-nav\" href=\"/travel/videos\" mode=\"dark\" name=\"Videos\" title=\"visit the Videos section\" type=\"expanded\">Videos</a>, <a class=\"sc-jzJRlG sc-kgoBCf bVNVsM\" data-analytics=\"header_expanded-nav\" href=\"/sport\" mode=\"dark\" name=\"sport\" title=\"visit the Sports section\" type=\"expanded\">Sports</a>, <a class=\"sc-jzJRlG sc-dxgOiQ hBCcvP\" data-analytics=\"header_expanded-nav\" href=\"/sport/football\" mode=\"dark\" name=\"football\" title=\"visit the Football section\" type=\"expanded\">Football</a>, <a class=\"sc-jzJRlG sc-dxgOiQ hBCcvP\" data-analytics=\"header_expanded-nav\" href=\"/sport/tennis\" mode=\"dark\" name=\"tennis\" title=\"visit the Tennis section\" type=\"expanded\">Tennis</a>, <a class=\"sc-jzJRlG sc-dxgOiQ hBCcvP\" data-analytics=\"header_expanded-nav\" href=\"/sport/equestrian\" mode=\"dark\" name=\"equestrian\" title=\"visit the Equestrian section\" type=\"expanded\">Equestrian</a>, <a class=\"sc-jzJRlG sc-dxgOiQ hBCcvP\" data-analytics=\"header_expanded-nav\" href=\"/sport/golf\" mode=\"dark\" name=\"golf\" title=\"visit the Golf section\" type=\"expanded\">Golf</a>, <a class=\"sc-jzJRlG sc-dxgOiQ hBCcvP\" data-analytics=\"header_expanded-nav\" href=\"/sport/skiing\" mode=\"dark\" name=\"skiing\" title=\"visit the Skiing section\" type=\"expanded\">Skiing</a>, <a class=\"sc-jzJRlG sc-dxgOiQ hBCcvP\" data-analytics=\"header_expanded-nav\" href=\"/sport/horse-racing\" mode=\"dark\" name=\"horseracing\" title=\"visit the Horse Racing section\" type=\"expanded\">Horse Racing</a>, <a class=\"sc-jzJRlG sc-dxgOiQ hBCcvP\" data-analytics=\"header_expanded-nav\" href=\"/sport/motorsport\" mode=\"dark\" name=\"motorsport\" title=\"visit the Motorsport section\" type=\"expanded\">Motorsport</a>, <a class=\"sc-jzJRlG sc-dxgOiQ hBCcvP\" data-analytics=\"header_expanded-nav\" href=\"/specials/sport/formula-e\" mode=\"dark\" name=\"formula-e\" title=\"visit the Formula E section\" type=\"expanded\">Formula E</a>, <a class=\"sc-jzJRlG sc-dxgOiQ hBCcvP\" data-analytics=\"header_expanded-nav\" href=\"/specials/esports\" mode=\"dark\" name=\"esports\" title=\"visit the Esports section\" type=\"expanded\">Esports</a>, <a class=\"sc-jzJRlG sc-kgoBCf bVNVsM\" data-analytics=\"header_expanded-nav\" href=\"/videos\" mode=\"dark\" name=\"videos\" title=\"visit the Videos section\" type=\"expanded\">Videos</a>, <a class=\"sc-jzJRlG sc-dxgOiQ hBCcvP\" data-analytics=\"header_expanded-nav\" href=\"//cnn.it/go2\" mode=\"dark\" name=\"live-tv\" title=\"visit the Live TV  section\" type=\"expanded\">Live TV </a>, <a class=\"sc-jzJRlG sc-dxgOiQ hBCcvP\" data-analytics=\"header_expanded-nav\" href=\"/specials/digital-studios\" mode=\"dark\" name=\"digital-studios\" title=\"visit the Digital Studios section\" type=\"expanded\">Digital Studios</a>, <a class=\"sc-jzJRlG sc-dxgOiQ hBCcvP\" data-analytics=\"header_expanded-nav\" href=\"/specials/videos/digital-shorts\" mode=\"dark\" name=\"digital-shorts\" title=\"visit the CNN Films section\" type=\"expanded\">CNN Films</a>, <a class=\"sc-jzJRlG sc-dxgOiQ hBCcvP\" data-analytics=\"header_expanded-nav\" href=\"/specials/videos/hln\" mode=\"dark\" name=\"hln\" title=\"visit the HLN section\" type=\"expanded\">HLN</a>, <a class=\"sc-jzJRlG sc-dxgOiQ hBCcvP\" data-analytics=\"header_expanded-nav\" href=\"/tv/schedule/cnn\" mode=\"dark\" name=\"tv-schedule\" title=\"visit the TV Schedule section\" type=\"expanded\">TV Schedule</a>, <a class=\"sc-jzJRlG sc-dxgOiQ hBCcvP\" data-analytics=\"header_expanded-nav\" href=\"/specials/tv/all-shows\" mode=\"dark\" name=\"all-shows\" title=\"visit the TV Shows A-Z section\" type=\"expanded\">TV Shows A-Z</a>, <a class=\"sc-jzJRlG sc-dxgOiQ hBCcvP\" data-analytics=\"header_expanded-nav\" href=\"/vr\" mode=\"dark\" name=\"vr\" title=\"visit the CNNVR section\" type=\"expanded\">CNNVR</a>, <a class=\"sc-jzJRlG sc-kgoBCf bVNVsM\" data-analytics=\"header_expanded-nav\" href=\"/specials\" mode=\"dark\" name=\"features\" title=\"visit the Features section\" type=\"expanded\">Features</a>, <a class=\"sc-jzJRlG sc-dxgOiQ hBCcvP\" data-analytics=\"header_expanded-nav\" href=\"/interactive/call-to-earth\" mode=\"dark\" name=\"call-to-earth\" title=\"visit the Call to Earth section\" type=\"expanded\">Call to Earth</a>, <a class=\"sc-jzJRlG sc-dxgOiQ hBCcvP\" data-analytics=\"header_expanded-nav\" href=\"/specials/world/freedom-project\" mode=\"dark\" name=\"freedom-project\" title=\"visit the Freedom Project section\" type=\"expanded\">Freedom Project</a>, <a class=\"sc-jzJRlG sc-dxgOiQ hBCcvP\" data-analytics=\"header_expanded-nav\" href=\"/specials/impact-your-world\" mode=\"dark\" name=\"impact-your-world\" title=\"visit the Impact Your World section\" type=\"expanded\">Impact Your World</a>, <a class=\"sc-jzJRlG sc-dxgOiQ hBCcvP\" data-analytics=\"header_expanded-nav\" href=\"/specials/africa/inside-africa\" mode=\"dark\" name=\"inside-africa\" title=\"visit the Inside Africa section\" type=\"expanded\">Inside Africa</a>, <a class=\"sc-jzJRlG sc-dxgOiQ hBCcvP\" data-analytics=\"header_expanded-nav\" href=\"/specials/opinions/two-degrees\" mode=\"dark\" name=\"two-degrees\" title=\"visit the 2 Degrees section\" type=\"expanded\">2 Degrees</a>, <a class=\"sc-jzJRlG sc-dxgOiQ hBCcvP\" data-analytics=\"header_expanded-nav\" href=\"/specials/cnn-heroes\" mode=\"dark\" name=\"cnn-heroes\" title=\"visit the CNN Heroes section\" type=\"expanded\">CNN Heroes</a>, <a class=\"sc-jzJRlG sc-dxgOiQ hBCcvP\" data-analytics=\"header_expanded-nav\" href=\"/specials\" mode=\"dark\" name=\"all-features\" title=\"visit the All Features section\" type=\"expanded\">All Features</a>, <a class=\"sc-jzJRlG sc-kgoBCf bVNVsM\" data-analytics=\"header_expanded-nav\" href=\"/more\" mode=\"dark\" name=\"more\" title=\"visit the More section\" type=\"expanded\">More</a>, <a class=\"sc-jzJRlG sc-dxgOiQ hBCcvP\" data-analytics=\"header_expanded-nav\" href=\"/specials/photos\" mode=\"dark\" name=\"photos\" title=\"visit the Photos section\" type=\"expanded\">Photos</a>, <a class=\"sc-jzJRlG sc-dxgOiQ hBCcvP\" data-analytics=\"header_expanded-nav\" href=\"/specials/cnn-longform\" mode=\"dark\" name=\"longform\" title=\"visit the Longform section\" type=\"expanded\">Longform</a>, <a class=\"sc-jzJRlG sc-dxgOiQ hBCcvP\" data-analytics=\"header_expanded-nav\" href=\"/specials/cnn-investigates\" mode=\"dark\" name=\"cnn-investigates\" title=\"visit the Investigations section\" type=\"expanded\">Investigations</a>, <a class=\"sc-jzJRlG sc-dxgOiQ hBCcvP\" data-analytics=\"header_expanded-nav\" href=\"/specials/profiles\" mode=\"dark\" name=\"profiles\" title=\"visit the CNN Profiles section\" type=\"expanded\">CNN Profiles</a>, <a class=\"sc-jzJRlG sc-dxgOiQ hBCcvP\" data-analytics=\"header_expanded-nav\" href=\"/specials/more/cnn-leadership\" mode=\"dark\" name=\"leadership\" title=\"visit the CNN Leadership section\" type=\"expanded\">CNN Leadership</a>, <a class=\"sc-jzJRlG sc-dxgOiQ hBCcvP\" data-analytics=\"header_expanded-nav\" href=\"/email/subscription\" mode=\"dark\" name=\"newsletters\" title=\"visit the CNN Newsletters section\" type=\"expanded\">CNN Newsletters</a>, <a class=\"sc-jzJRlG sc-dxgOiQ hBCcvP\" data-analytics=\"header_expanded-nav\" href=\"https://www.turnerjobs.com/search-jobs?orgIds=1174&amp;ac=19299\" mode=\"dark\" name=\"jobs\" title=\"visit the Work for CNN section\" type=\"expanded\">Work for CNN</a>, <a class=\"sc-jzJRlG sc-kgoBCf bVNVsM\" data-analytics=\"header_expanded-nav\" href=\"/weather\" mode=\"dark\" name=\"weather\" title=\"visit the Weather section\" type=\"expanded\">Weather</a>, <a class=\"sc-jzJRlG sc-dxgOiQ hBCcvP\" data-analytics=\"header_expanded-nav\" href=\"/specials/world/cnn-climate\" mode=\"dark\" name=\"climate\" title=\"visit the Climate section\" type=\"expanded\">Climate</a>, <a class=\"sc-jzJRlG sc-dxgOiQ hBCcvP\" data-analytics=\"header_expanded-nav\" href=\"/interactive/2020/weather/gonzalo-storm-path-tracker/index.html\" mode=\"dark\" name=\"storm-tracker\" title=\"visit the Storm Tracker section\" type=\"expanded\">Storm Tracker</a>, <a class=\"sc-jzJRlG sc-dxgOiQ hBCcvP\" data-analytics=\"header_expanded-nav\" href=\"/specials/weather/weather-video\" mode=\"dark\" name=\"weather-video\" title=\"visit the Video section\" type=\"expanded\">Video</a>, <a aria-label=\"Facebook page\" class=\"Text-sc-1amvtpj-0-a Link-sc-1hkqz5e-0 sc-kEYyzF iFLIqS\" color=\"#0C0C0C\" data-icon=\"facebook\" href=\"//facebook.com/cnninternational\" mode=\"dark\" name=\"Facebook page\" rel=\"noopener\" target=\"_blank noreferrer\"><svg aria-hidden=\"true\" class=\"facebook-icon\" fill=\"\" height=\"64\" style=\"outline:0\" viewbox=\"0 0 64 64\" width=\"64\" xmlns=\"https://www.w3.org/2000/svg\"><path d=\"M56,5.1H8c-1.6,0-3,1.4-3,3v48.8c0,1.7,1.3,3,3,3h25.9V38.7h-7v-8.3h7v-6.1 c0-7.1,4.3-10.9,10.5-10.9c3,0,5.9,0.2,6.7,0.3v7.7h-4.7c-3.4,0-4.1,1.6-4.1,4v5h8.1l-1,8.3h-7v21.2H56c1.6,0,3-1.4,3-3V8.1 C59,6.4,57.7,5.1,56,5.1\"></path></svg></a>, <a aria-label=\"Twitter feed\" class=\"Text-sc-1amvtpj-0-a Link-sc-1hkqz5e-0 sc-kEYyzF iFLIqS\" color=\"#0C0C0C\" data-icon=\"twitter\" href=\"//twitter.com/cnni\" mode=\"dark\" name=\"Twitter feed\" rel=\"noopener\" target=\"_blank noreferrer\"><svg aria-hidden=\"true\" class=\"twitter-icon\" fill=\"\" height=\"64\" style=\"outline:0\" viewbox=\"0 0 64 64\" width=\"64\" xmlns=\"https://www.w3.org/2000/svg\"><path d=\"M60,15.2c-2.1,0.9-4.3,1.5-6.6,1.7c2.4-1.4,4.2-3.6,5.1-6.1c-2.2,1.3-4.7,2.2-7.3,2.7 c-2.1-2.2-5.1-3.5-8.4-3.5c-6.3,0-11.5,5-11.5,11.1c0,0.9,0.1,1.7,0.3,2.5C22,23.2,13.6,18.8,7.9,12c-1,1.6-1.6,3.5-1.6,5.6 c0,3.9,2,7.3,5.1,9.2c-1.9-0.1-3.7-0.6-5.2-1.4v0.1c0,5.4,4,9.9,9.2,10.9c-1,0.3-2,0.4-3,0.4c-0.7,0-1.5-0.1-2.2-0.2 c1.5,4.4,5.7,7.6,10.7,7.7c-3.9,3-8.9,4.8-14.3,4.8c-0.9,0-1.8-0.1-2.7-0.2c5.1,3.2,11.1,5,17.6,5c21.1,0,32.7-16.9,32.7-31.6 c0-0.5,0-1,0-1.4C56.5,19.4,58.5,17.4,60,15.2\"></path></svg></a>, <a aria-label=\"Instagram feed\" class=\"Text-sc-1amvtpj-0-a Link-sc-1hkqz5e-0 sc-kEYyzF iFLIqS\" color=\"#0C0C0C\" data-icon=\"instagram\" href=\"//instagram.com/cnn\" mode=\"dark\" name=\"Instagram feed\" rel=\"noopener\" target=\"_blank noreferrer\"><svg aria-hidden=\"true\" class=\"instagram-icon\" fill=\"\" height=\"64\" style=\"outline:0\" viewbox=\"0 0 64 64\" width=\"64\" xmlns=\"https://www.w3.org/2000/svg\"><path d=\"M47,13.2c-1.9,0-3.5,1.6-3.5,3.6s1.6,3.6,3.5,3.6s3.5-1.6,3.5-3.6S49,13.2,47,13.2 L47,13.2z M31.9,23c-5.1,0-9.3,4.3-9.3,9.5s4.2,9.5,9.3,9.5s9.3-4.3,9.3-9.5S37,23,31.9,23L31.9,23z M31.9,46.7 c-7.7,0-14-6.4-14-14.2s6.3-14.2,14-14.2s14,6.4,14,14.2S39.6,46.7,31.9,46.7L31.9,46.7z M15.7,8.8c-3.9,0-7,3.2-7,7.1v33.2 c0,3.9,3.1,7.1,7,7.1h32.7c3.9,0,7-3.2,7-7.1V15.9c0-3.9-3.1-7.1-7-7.1C48.4,8.8,15.7,8.8,15.7,8.8z M48.3,60.9H15.7 C9.2,60.9,4,55.6,4,49.1V15.9C4,9.4,9.2,4.1,15.7,4.1h32.7C54.8,4.1,60,9.4,60,15.9v33.2C60,55.6,54.8,60.9,48.3,60.9L48.3,60.9z\"></path></svg></a>, <a class=\"sc-jzJRlG sc-kgoBCf bVNVsM\" data-analytics=\"footer\" href=\"/world\" mode=\"dark\" name=\"world\" title=\"visit the World section\" type=\"expanded\">World</a>, <a class=\"sc-jzJRlG sc-dxgOiQ hBCcvP\" data-analytics=\"footer\" href=\"/africa\" mode=\"dark\" name=\"africa\" title=\"visit the Africa section\" type=\"expanded\">Africa</a>, <a class=\"sc-jzJRlG sc-dxgOiQ hBCcvP\" data-analytics=\"footer\" href=\"/americas\" mode=\"dark\" name=\"americas\" title=\"visit the Americas section\" type=\"expanded\">Americas</a>, <a class=\"sc-jzJRlG sc-dxgOiQ hBCcvP\" data-analytics=\"footer\" href=\"/asia\" mode=\"dark\" name=\"asia\" title=\"visit the Asia section\" type=\"expanded\">Asia</a>, <a class=\"sc-jzJRlG sc-dxgOiQ hBCcvP\" data-analytics=\"footer\" href=\"/australia\" mode=\"dark\" name=\"australia\" title=\"visit the Australia section\" type=\"expanded\">Australia</a>, <a class=\"sc-jzJRlG sc-dxgOiQ hBCcvP\" data-analytics=\"footer\" href=\"/china\" mode=\"dark\" name=\"china\" title=\"visit the China section\" type=\"expanded\">China</a>, <a class=\"sc-jzJRlG sc-dxgOiQ hBCcvP\" data-analytics=\"footer\" href=\"/europe\" mode=\"dark\" name=\"europe\" title=\"visit the Europe section\" type=\"expanded\">Europe</a>, <a class=\"sc-jzJRlG sc-dxgOiQ hBCcvP\" data-analytics=\"footer\" href=\"/india\" mode=\"dark\" name=\"india\" title=\"visit the India section\" type=\"expanded\">India</a>, <a class=\"sc-jzJRlG sc-dxgOiQ hBCcvP\" data-analytics=\"footer\" href=\"/middle-east\" mode=\"dark\" name=\"middleeast\" title=\"visit the Middle East section\" type=\"expanded\">Middle East</a>, <a class=\"sc-jzJRlG sc-dxgOiQ hBCcvP\" data-analytics=\"footer\" href=\"/uk\" mode=\"dark\" name=\"uk\" title=\"visit the United Kingdom section\" type=\"expanded\">United Kingdom</a>, <a class=\"sc-jzJRlG sc-kgoBCf bVNVsM\" data-analytics=\"footer\" href=\"/politics\" mode=\"dark\" name=\"politics\" title=\"visit the US Politics section\" type=\"expanded\">US Politics</a>, <a class=\"sc-jzJRlG sc-dxgOiQ hBCcvP\" data-analytics=\"footer\" href=\"/election/2020\" mode=\"dark\" name=\"2020-election\" title=\"visit the 2020 Election section\" type=\"expanded\">2020 Election</a>, <a class=\"sc-jzJRlG sc-dxgOiQ hBCcvP\" data-analytics=\"footer\" href=\"/specials/politics/president-donald-trump-45\" mode=\"dark\" name=\"president\" title=\"visit the Donald Trump section\" type=\"expanded\">Donald Trump</a>, <a class=\"sc-jzJRlG sc-dxgOiQ hBCcvP\" data-analytics=\"footer\" href=\"/specials/politics/supreme-court-nine\" mode=\"dark\" name=\"scotus\" title=\"visit the Supreme Court section\" type=\"expanded\">Supreme Court</a>, <a class=\"sc-jzJRlG sc-dxgOiQ hBCcvP\" data-analytics=\"footer\" href=\"/specials/politics/congress\" mode=\"dark\" name=\"congress\" title=\"visit the Congress section\" type=\"expanded\">Congress</a>, <a class=\"sc-jzJRlG sc-dxgOiQ hBCcvP\" data-analytics=\"footer\" href=\"/specials/politics/fact-check-politics\" mode=\"dark\" name=\"facts-first\" title=\"visit the Facts First section\" type=\"expanded\">Facts First</a>, <a class=\"sc-jzJRlG sc-kgoBCf bVNVsM\" data-analytics=\"footer\" href=\"/business\" mode=\"dark\" name=\"business\" title=\"visit the Business section\" type=\"expanded\">Business</a>, <a class=\"sc-jzJRlG sc-dxgOiQ hBCcvP\" data-analytics=\"footer\" href=\"https://money.cnn.com/data/markets/\" mode=\"dark\" name=\"markets\" title=\"visit the Markets section\" type=\"expanded\">Markets</a>, <a class=\"sc-jzJRlG sc-dxgOiQ hBCcvP\" data-analytics=\"footer\" href=\"/business/tech\" mode=\"dark\" name=\"tech\" title=\"visit the Tech section\" type=\"expanded\">Tech</a>, <a class=\"sc-jzJRlG sc-dxgOiQ hBCcvP\" data-analytics=\"footer\" href=\"/business/media\" mode=\"dark\" name=\"media\" title=\"visit the Media section\" type=\"expanded\">Media</a>, <a class=\"sc-jzJRlG sc-dxgOiQ hBCcvP\" data-analytics=\"footer\" href=\"/business/success\" mode=\"dark\" name=\"success\" title=\"visit the Success section\" type=\"expanded\">Success</a>, <a class=\"sc-jzJRlG sc-dxgOiQ hBCcvP\" data-analytics=\"footer\" href=\"/business/perspectives\" mode=\"dark\" name=\"perspectives\" title=\"visit the Perspectives section\" type=\"expanded\">Perspectives</a>, <a class=\"sc-jzJRlG sc-dxgOiQ hBCcvP\" data-analytics=\"footer\" href=\"/business/videos\" mode=\"dark\" name=\"business-videos\" title=\"visit the Videos section\" type=\"expanded\">Videos</a>, <a class=\"sc-jzJRlG sc-kgoBCf bVNVsM\" data-analytics=\"footer\" href=\"/health\" mode=\"dark\" name=\"health\" title=\"visit the Health section\" type=\"expanded\">Health</a>, <a class=\"sc-jzJRlG sc-dxgOiQ hBCcvP\" data-analytics=\"footer\" href=\"/specials/health/food-diet\" mode=\"dark\" name=\"food\" title=\"visit the Food section\" type=\"expanded\">Food</a>, <a class=\"sc-jzJRlG sc-dxgOiQ hBCcvP\" data-analytics=\"footer\" href=\"/specials/health/fitness-excercise\" mode=\"dark\" name=\"fitness\" title=\"visit the Fitness section\" type=\"expanded\">Fitness</a>, <a class=\"sc-jzJRlG sc-dxgOiQ hBCcvP\" data-analytics=\"footer\" href=\"/specials/health/wellness\" mode=\"dark\" name=\"wellness\" title=\"visit the Wellness section\" type=\"expanded\">Wellness</a>, <a class=\"sc-jzJRlG sc-dxgOiQ hBCcvP\" data-analytics=\"footer\" href=\"/specials/health/parenting\" mode=\"dark\" name=\"parenting\" title=\"visit the Parenting section\" type=\"expanded\">Parenting</a>, <a class=\"sc-jzJRlG sc-dxgOiQ hBCcvP\" data-analytics=\"footer\" href=\"/specials/health/vital-signs\" mode=\"dark\" name=\"vital-signs\" title=\"visit the Vital Signs section\" type=\"expanded\">Vital Signs</a>, <a class=\"sc-jzJRlG sc-kgoBCf bVNVsM\" data-analytics=\"footer\" href=\"/entertainment\" mode=\"dark\" name=\"entertainment\" title=\"visit the Entertainment section\" type=\"expanded\">Entertainment</a>, <a class=\"sc-jzJRlG sc-dxgOiQ hBCcvP\" data-analytics=\"footer\" href=\"/entertainment/celebrities\" mode=\"dark\" name=\"stars\" title=\"visit the Stars section\" type=\"expanded\">Stars</a>, <a class=\"sc-jzJRlG sc-dxgOiQ hBCcvP\" data-analytics=\"footer\" href=\"/entertainment/movies\" mode=\"dark\" name=\"screen\" title=\"visit the Screen section\" type=\"expanded\">Screen</a>, <a class=\"sc-jzJRlG sc-dxgOiQ hBCcvP\" data-analytics=\"footer\" href=\"/entertainment/tv-shows\" mode=\"dark\" name=\"binge\" title=\"visit the Binge section\" type=\"expanded\">Binge</a>, <a class=\"sc-jzJRlG sc-dxgOiQ hBCcvP\" data-analytics=\"footer\" href=\"/entertainment/culture\" mode=\"dark\" name=\"culture\" title=\"visit the Culture section\" type=\"expanded\">Culture</a>, <a class=\"sc-jzJRlG sc-dxgOiQ hBCcvP\" data-analytics=\"footer\" href=\"/business/media\" mode=\"dark\" name=\"media\" title=\"visit the Media section\" type=\"expanded\">Media</a>, <a class=\"sc-jzJRlG sc-kgoBCf bVNVsM\" data-analytics=\"footer\" href=\"/business/tech\" mode=\"dark\" name=\"tech\" title=\"visit the Tech section\" type=\"expanded\">Tech</a>, <a class=\"sc-jzJRlG sc-dxgOiQ hBCcvP\" data-analytics=\"footer\" href=\"/specials/tech/innovate\" mode=\"dark\" name=\"innovate\" title=\"visit the Innovate section\" type=\"expanded\">Innovate</a>, <a class=\"sc-jzJRlG sc-dxgOiQ hBCcvP\" data-analytics=\"footer\" href=\"/specials/tech/gadget\" mode=\"dark\" name=\"gadget\" title=\"visit the Gadget section\" type=\"expanded\">Gadget</a>, <a class=\"sc-jzJRlG sc-dxgOiQ hBCcvP\" data-analytics=\"footer\" href=\"/specials/tech/foreseeable-future\" mode=\"dark\" name=\"foreseeable-future\" title=\"visit the Foreseeable Future section\" type=\"expanded\">Foreseeable Future</a>, <a class=\"sc-jzJRlG sc-dxgOiQ hBCcvP\" data-analytics=\"footer\" href=\"/specials/tech/mission-ahead\" mode=\"dark\" name=\"mission-ahead\" title=\"visit the Mission: Ahead section\" type=\"expanded\">Mission: Ahead</a>, <a class=\"sc-jzJRlG sc-dxgOiQ hBCcvP\" data-analytics=\"footer\" href=\"/specials/tech/upstarts\" mode=\"dark\" name=\"upstarts\" title=\"visit the Upstarts section\" type=\"expanded\">Upstarts</a>, <a class=\"sc-jzJRlG sc-dxgOiQ hBCcvP\" data-analytics=\"footer\" href=\"/specials/tech/work-transformed\" mode=\"dark\" name=\"work-transformed\" title=\"visit the Work Transformed section\" type=\"expanded\">Work Transformed</a>, <a class=\"sc-jzJRlG sc-dxgOiQ hBCcvP\" data-analytics=\"footer\" href=\"/specials/tech/innovative-cities\" mode=\"dark\" name=\"innovative-cities\" title=\"visit the Innovative Cities section\" type=\"expanded\">Innovative Cities</a>, <a class=\"sc-jzJRlG sc-kgoBCf bVNVsM\" data-analytics=\"footer\" href=\"/style\" mode=\"dark\" name=\"style\" title=\"visit the Style section\" type=\"expanded\">Style</a>, <a class=\"sc-jzJRlG sc-dxgOiQ hBCcvP\" data-analytics=\"footer\" href=\"/style/arts\" mode=\"dark\" name=\"arts\" title=\"visit the Arts section\" type=\"expanded\">Arts</a>, <a class=\"sc-jzJRlG sc-dxgOiQ hBCcvP\" data-analytics=\"footer\" href=\"/style/design\" mode=\"dark\" name=\"design\" title=\"visit the Design section\" type=\"expanded\">Design</a>, <a class=\"sc-jzJRlG sc-dxgOiQ hBCcvP\" data-analytics=\"footer\" href=\"/style/fashion\" mode=\"dark\" name=\"fashion\" title=\"visit the Fashion section\" type=\"expanded\">Fashion</a>, <a class=\"sc-jzJRlG sc-dxgOiQ hBCcvP\" data-analytics=\"footer\" href=\"/style/architecture\" mode=\"dark\" name=\"architecture\" title=\"visit the Architecture section\" type=\"expanded\">Architecture</a>, <a class=\"sc-jzJRlG sc-dxgOiQ hBCcvP\" data-analytics=\"footer\" href=\"/style/luxury\" mode=\"dark\" name=\"luxury\" title=\"visit the Luxury section\" type=\"expanded\">Luxury</a>, <a class=\"sc-jzJRlG sc-dxgOiQ hBCcvP\" data-analytics=\"footer\" href=\"/style/beauty\" mode=\"dark\" name=\"beauty\" title=\"visit the Beauty section\" type=\"expanded\">Beauty</a>, <a class=\"sc-jzJRlG sc-dxgOiQ hBCcvP\" data-analytics=\"footer\" href=\"/style/videos\" mode=\"dark\" name=\"Video\" title=\"visit the Video section\" type=\"expanded\">Video</a>, <a class=\"sc-jzJRlG sc-kgoBCf bVNVsM\" data-analytics=\"footer\" href=\"/travel\" mode=\"dark\" name=\"travel\" title=\"visit the Travel section\" type=\"expanded\">Travel</a>, <a class=\"sc-jzJRlG sc-dxgOiQ hBCcvP\" data-analytics=\"footer\" href=\"/travel/destinations\" mode=\"dark\" name=\"destinations\" title=\"visit the Destinations section\" type=\"expanded\">Destinations</a>, <a class=\"sc-jzJRlG sc-dxgOiQ hBCcvP\" data-analytics=\"footer\" href=\"/travel/food-and-drink\" mode=\"dark\" name=\"foodanddrink\" title=\"visit the Food and Drink section\" type=\"expanded\">Food and Drink</a>, <a class=\"sc-jzJRlG sc-dxgOiQ hBCcvP\" data-analytics=\"footer\" href=\"/travel/stay\" mode=\"dark\" name=\"Stay\" title=\"visit the Stay section\" type=\"expanded\">Stay</a>, <a class=\"sc-jzJRlG sc-dxgOiQ hBCcvP\" data-analytics=\"footer\" href=\"/travel/news\" mode=\"dark\" name=\"News\" title=\"visit the News section\" type=\"expanded\">News</a>, <a class=\"sc-jzJRlG sc-dxgOiQ hBCcvP\" data-analytics=\"footer\" href=\"/travel/videos\" mode=\"dark\" name=\"Videos\" title=\"visit the Videos section\" type=\"expanded\">Videos</a>, <a class=\"sc-jzJRlG sc-kgoBCf bVNVsM\" data-analytics=\"footer\" href=\"/sport\" mode=\"dark\" name=\"sport\" title=\"visit the Sports section\" type=\"expanded\">Sports</a>, <a class=\"sc-jzJRlG sc-dxgOiQ hBCcvP\" data-analytics=\"footer\" href=\"/sport/football\" mode=\"dark\" name=\"football\" title=\"visit the Football section\" type=\"expanded\">Football</a>, <a class=\"sc-jzJRlG sc-dxgOiQ hBCcvP\" data-analytics=\"footer\" href=\"/sport/tennis\" mode=\"dark\" name=\"tennis\" title=\"visit the Tennis section\" type=\"expanded\">Tennis</a>, <a class=\"sc-jzJRlG sc-dxgOiQ hBCcvP\" data-analytics=\"footer\" href=\"/sport/equestrian\" mode=\"dark\" name=\"equestrian\" title=\"visit the Equestrian section\" type=\"expanded\">Equestrian</a>, <a class=\"sc-jzJRlG sc-dxgOiQ hBCcvP\" data-analytics=\"footer\" href=\"/sport/golf\" mode=\"dark\" name=\"golf\" title=\"visit the Golf section\" type=\"expanded\">Golf</a>, <a class=\"sc-jzJRlG sc-dxgOiQ hBCcvP\" data-analytics=\"footer\" href=\"/sport/skiing\" mode=\"dark\" name=\"skiing\" title=\"visit the Skiing section\" type=\"expanded\">Skiing</a>, <a class=\"sc-jzJRlG sc-dxgOiQ hBCcvP\" data-analytics=\"footer\" href=\"/sport/horse-racing\" mode=\"dark\" name=\"horseracing\" title=\"visit the Horse Racing section\" type=\"expanded\">Horse Racing</a>, <a class=\"sc-jzJRlG sc-dxgOiQ hBCcvP\" data-analytics=\"footer\" href=\"/sport/motorsport\" mode=\"dark\" name=\"motorsport\" title=\"visit the Motorsport section\" type=\"expanded\">Motorsport</a>, <a class=\"sc-jzJRlG sc-dxgOiQ hBCcvP\" data-analytics=\"footer\" href=\"/specials/sport/formula-e\" mode=\"dark\" name=\"formula-e\" title=\"visit the Formula E section\" type=\"expanded\">Formula E</a>, <a class=\"sc-jzJRlG sc-dxgOiQ hBCcvP\" data-analytics=\"footer\" href=\"/specials/esports\" mode=\"dark\" name=\"esports\" title=\"visit the Esports section\" type=\"expanded\">Esports</a>, <a class=\"sc-jzJRlG sc-kgoBCf bVNVsM\" data-analytics=\"footer\" href=\"/videos\" mode=\"dark\" name=\"videos\" title=\"visit the Videos section\" type=\"expanded\">Videos</a>, <a class=\"sc-jzJRlG sc-dxgOiQ hBCcvP\" data-analytics=\"footer\" href=\"//cnn.it/go2\" mode=\"dark\" name=\"live-tv\" title=\"visit the Live TV  section\" type=\"expanded\">Live TV </a>, <a class=\"sc-jzJRlG sc-dxgOiQ hBCcvP\" data-analytics=\"footer\" href=\"/specials/digital-studios\" mode=\"dark\" name=\"digital-studios\" title=\"visit the Digital Studios section\" type=\"expanded\">Digital Studios</a>, <a class=\"sc-jzJRlG sc-dxgOiQ hBCcvP\" data-analytics=\"footer\" href=\"/specials/videos/digital-shorts\" mode=\"dark\" name=\"digital-shorts\" title=\"visit the CNN Films section\" type=\"expanded\">CNN Films</a>, <a class=\"sc-jzJRlG sc-dxgOiQ hBCcvP\" data-analytics=\"footer\" href=\"/specials/videos/hln\" mode=\"dark\" name=\"hln\" title=\"visit the HLN section\" type=\"expanded\">HLN</a>, <a class=\"sc-jzJRlG sc-dxgOiQ hBCcvP\" data-analytics=\"footer\" href=\"/tv/schedule/cnn\" mode=\"dark\" name=\"tv-schedule\" title=\"visit the TV Schedule section\" type=\"expanded\">TV Schedule</a>, <a class=\"sc-jzJRlG sc-dxgOiQ hBCcvP\" data-analytics=\"footer\" href=\"/specials/tv/all-shows\" mode=\"dark\" name=\"all-shows\" title=\"visit the TV Shows A-Z section\" type=\"expanded\">TV Shows A-Z</a>, <a class=\"sc-jzJRlG sc-dxgOiQ hBCcvP\" data-analytics=\"footer\" href=\"/vr\" mode=\"dark\" name=\"vr\" title=\"visit the CNNVR section\" type=\"expanded\">CNNVR</a>, <a class=\"sc-jzJRlG sc-kgoBCf bVNVsM\" data-analytics=\"footer\" href=\"/specials\" mode=\"dark\" name=\"features\" title=\"visit the Features section\" type=\"expanded\">Features</a>, <a class=\"sc-jzJRlG sc-dxgOiQ hBCcvP\" data-analytics=\"footer\" href=\"/interactive/call-to-earth\" mode=\"dark\" name=\"call-to-earth\" title=\"visit the Call to Earth section\" type=\"expanded\">Call to Earth</a>, <a class=\"sc-jzJRlG sc-dxgOiQ hBCcvP\" data-analytics=\"footer\" href=\"/specials/world/freedom-project\" mode=\"dark\" name=\"freedom-project\" title=\"visit the Freedom Project section\" type=\"expanded\">Freedom Project</a>, <a class=\"sc-jzJRlG sc-dxgOiQ hBCcvP\" data-analytics=\"footer\" href=\"/specials/impact-your-world\" mode=\"dark\" name=\"impact-your-world\" title=\"visit the Impact Your World section\" type=\"expanded\">Impact Your World</a>, <a class=\"sc-jzJRlG sc-dxgOiQ hBCcvP\" data-analytics=\"footer\" href=\"/specials/africa/inside-africa\" mode=\"dark\" name=\"inside-africa\" title=\"visit the Inside Africa section\" type=\"expanded\">Inside Africa</a>, <a class=\"sc-jzJRlG sc-dxgOiQ hBCcvP\" data-analytics=\"footer\" href=\"/specials/opinions/two-degrees\" mode=\"dark\" name=\"two-degrees\" title=\"visit the 2 Degrees section\" type=\"expanded\">2 Degrees</a>, <a class=\"sc-jzJRlG sc-dxgOiQ hBCcvP\" data-analytics=\"footer\" href=\"/specials/cnn-heroes\" mode=\"dark\" name=\"cnn-heroes\" title=\"visit the CNN Heroes section\" type=\"expanded\">CNN Heroes</a>, <a class=\"sc-jzJRlG sc-dxgOiQ hBCcvP\" data-analytics=\"footer\" href=\"/specials\" mode=\"dark\" name=\"all-features\" title=\"visit the All Features section\" type=\"expanded\">All Features</a>, <a class=\"sc-jzJRlG sc-kgoBCf bVNVsM\" data-analytics=\"footer\" href=\"/more\" mode=\"dark\" name=\"more\" title=\"visit the More section\" type=\"expanded\">More</a>, <a class=\"sc-jzJRlG sc-dxgOiQ hBCcvP\" data-analytics=\"footer\" href=\"/specials/photos\" mode=\"dark\" name=\"photos\" title=\"visit the Photos section\" type=\"expanded\">Photos</a>, <a class=\"sc-jzJRlG sc-dxgOiQ hBCcvP\" data-analytics=\"footer\" href=\"/specials/cnn-longform\" mode=\"dark\" name=\"longform\" title=\"visit the Longform section\" type=\"expanded\">Longform</a>, <a class=\"sc-jzJRlG sc-dxgOiQ hBCcvP\" data-analytics=\"footer\" href=\"/specials/cnn-investigates\" mode=\"dark\" name=\"cnn-investigates\" title=\"visit the Investigations section\" type=\"expanded\">Investigations</a>, <a class=\"sc-jzJRlG sc-dxgOiQ hBCcvP\" data-analytics=\"footer\" href=\"/specials/profiles\" mode=\"dark\" name=\"profiles\" title=\"visit the CNN Profiles section\" type=\"expanded\">CNN Profiles</a>, <a class=\"sc-jzJRlG sc-dxgOiQ hBCcvP\" data-analytics=\"footer\" href=\"/specials/more/cnn-leadership\" mode=\"dark\" name=\"leadership\" title=\"visit the CNN Leadership section\" type=\"expanded\">CNN Leadership</a>, <a class=\"sc-jzJRlG sc-dxgOiQ hBCcvP\" data-analytics=\"footer\" href=\"/email/subscription\" mode=\"dark\" name=\"newsletters\" title=\"visit the CNN Newsletters section\" type=\"expanded\">CNN Newsletters</a>, <a class=\"sc-jzJRlG sc-dxgOiQ hBCcvP\" data-analytics=\"footer\" href=\"https://www.turnerjobs.com/search-jobs?orgIds=1174&amp;ac=19299\" mode=\"dark\" name=\"jobs\" title=\"visit the Work for CNN section\" type=\"expanded\">Work for CNN</a>, <a class=\"sc-jzJRlG sc-kgoBCf bVNVsM\" data-analytics=\"footer\" href=\"/weather\" mode=\"dark\" name=\"weather\" title=\"visit the Weather section\" type=\"expanded\">Weather</a>, <a class=\"sc-jzJRlG sc-dxgOiQ hBCcvP\" data-analytics=\"footer\" href=\"/specials/world/cnn-climate\" mode=\"dark\" name=\"climate\" title=\"visit the Climate section\" type=\"expanded\">Climate</a>, <a class=\"sc-jzJRlG sc-dxgOiQ hBCcvP\" data-analytics=\"footer\" href=\"/interactive/2020/weather/gonzalo-storm-path-tracker/index.html\" mode=\"dark\" name=\"storm-tracker\" title=\"visit the Storm Tracker section\" type=\"expanded\">Storm Tracker</a>, <a class=\"sc-jzJRlG sc-dxgOiQ hBCcvP\" data-analytics=\"footer\" href=\"/specials/weather/weather-video\" mode=\"dark\" name=\"weather-video\" title=\"visit the Video section\" type=\"expanded\">Video</a>, <a aria-label=\"CNN\" class=\"Text-sc-1amvtpj-0-a Link-sc-1hkqz5e-0 jlzTwO\" color=\"#0C0C0C\" data-analytics=\"footer\" href=\"/\" mode=\"light\"><svg aria-hidden=\"true\" class=\"cnn-badge-icon\" fill=\"#CC0000\" height=\"40\" style=\"outline:0\" viewbox=\"0 0 240 240\" width=\"40\" xmlns=\"https://www.w3.org/2000/svg\"><rect fill=\"#fff\" height=\"100%\" width=\"100%\" x=\"0\" y=\"0\"></rect><path d=\"M.31-.07v240h240V-.07ZM86.54,135.29V92.51c0-16.1,20.81-23.83,31.82-5.12.8,1.35,18.14,31.22,18.14,31.22V92.51c0-16.1,20.8-23.83,31.81-5.12.8,1.35,18.14,31.22,18.14,31.22V76.79h10.38V147a2.11,2.11,0,0,1-1.51,2.14c-1.1.3-2.26-.38-3.11-1.82-.17-.28-9-15.46-17.48-30.13L159.17,90.4c-2.18-3.7-5.43-4.35-7.74-3.72a6.23,6.23,0,0,0-4.55,6.13V147a2.12,2.12,0,0,1-1.51,2.14c-1.11.3-2.27-.38-3.11-1.82-.15-.25-8.34-14.36-16.25-28-10.08-17.38-16.7-28.78-16.8-28.95-2.18-3.71-5.44-4.35-7.77-3.72a6.24,6.24,0,0,0-4.56,6.13v53.05a2.9,2.9,0,0,1-2.72,2.71H67.23a28.64,28.64,0,0,1,0-57.28h14v10.36H67.35a18.28,18.28,0,1,0,0,36.56H83.68A2.84,2.84,0,0,0,86.54,135.29Zm124.77,12.05c0,16.1-20.81,23.83-31.82,5.13-.79-1.35-18.14-31.23-18.14-31.23v26.1c0,16.1-20.8,23.83-31.81,5.13-.8-1.35-18.14-31.23-18.14-31.23v24.61c0,11.17-6.63,17.22-17,17.22H67.25a43.14,43.14,0,0,1,0-86.28h14V87.15h-14a32.78,32.78,0,1,0,0,65.56H94.16a7,7,0,0,0,6.86-6.85V92.81a2.1,2.1,0,0,1,1.51-2.13c1.1-.3,2.26.38,3.11,1.82l16.79,28.93c9.76,16.83,16.17,27.88,16.25,28,2.19,3.7,5.45,4.35,7.78,3.71A6.22,6.22,0,0,0,151,147V92.82a2.11,2.11,0,0,1,1.49-2.14c1.09-.3,2.24.38,3.08,1.82l15.56,26.81,17.49,30.15c1.71,2.9,4.09,3.93,6.16,3.93a6,6,0,0,0,1.61-.22A6.23,6.23,0,0,0,201,147V76.79h10.34Z\" transform=\"translate(-0.31 0.07)\"></path></svg></a>, <a aria-label=\"Facebook page\" class=\"Text-sc-1amvtpj-0-a Link-sc-1hkqz5e-0 sc-kEYyzF iFLIqS\" color=\"#0C0C0C\" data-icon=\"facebook\" href=\"//facebook.com/cnninternational\" mode=\"dark\" name=\"Facebook page\" rel=\"noopener\" target=\"_blank noreferrer\"><svg aria-hidden=\"true\" class=\"facebook-icon\" fill=\"\" height=\"64\" style=\"outline:0\" viewbox=\"0 0 64 64\" width=\"64\" xmlns=\"https://www.w3.org/2000/svg\"><path d=\"M56,5.1H8c-1.6,0-3,1.4-3,3v48.8c0,1.7,1.3,3,3,3h25.9V38.7h-7v-8.3h7v-6.1 c0-7.1,4.3-10.9,10.5-10.9c3,0,5.9,0.2,6.7,0.3v7.7h-4.7c-3.4,0-4.1,1.6-4.1,4v5h8.1l-1,8.3h-7v21.2H56c1.6,0,3-1.4,3-3V8.1 C59,6.4,57.7,5.1,56,5.1\"></path></svg></a>, <a aria-label=\"Twitter feed\" class=\"Text-sc-1amvtpj-0-a Link-sc-1hkqz5e-0 sc-kEYyzF iFLIqS\" color=\"#0C0C0C\" data-icon=\"twitter\" href=\"//twitter.com/cnni\" mode=\"dark\" name=\"Twitter feed\" rel=\"noopener\" target=\"_blank noreferrer\"><svg aria-hidden=\"true\" class=\"twitter-icon\" fill=\"\" height=\"64\" style=\"outline:0\" viewbox=\"0 0 64 64\" width=\"64\" xmlns=\"https://www.w3.org/2000/svg\"><path d=\"M60,15.2c-2.1,0.9-4.3,1.5-6.6,1.7c2.4-1.4,4.2-3.6,5.1-6.1c-2.2,1.3-4.7,2.2-7.3,2.7 c-2.1-2.2-5.1-3.5-8.4-3.5c-6.3,0-11.5,5-11.5,11.1c0,0.9,0.1,1.7,0.3,2.5C22,23.2,13.6,18.8,7.9,12c-1,1.6-1.6,3.5-1.6,5.6 c0,3.9,2,7.3,5.1,9.2c-1.9-0.1-3.7-0.6-5.2-1.4v0.1c0,5.4,4,9.9,9.2,10.9c-1,0.3-2,0.4-3,0.4c-0.7,0-1.5-0.1-2.2-0.2 c1.5,4.4,5.7,7.6,10.7,7.7c-3.9,3-8.9,4.8-14.3,4.8c-0.9,0-1.8-0.1-2.7-0.2c5.1,3.2,11.1,5,17.6,5c21.1,0,32.7-16.9,32.7-31.6 c0-0.5,0-1,0-1.4C56.5,19.4,58.5,17.4,60,15.2\"></path></svg></a>, <a aria-label=\"Instagram feed\" class=\"Text-sc-1amvtpj-0-a Link-sc-1hkqz5e-0 sc-kEYyzF iFLIqS\" color=\"#0C0C0C\" data-icon=\"instagram\" href=\"//instagram.com/cnn\" mode=\"dark\" name=\"Instagram feed\" rel=\"noopener\" target=\"_blank noreferrer\"><svg aria-hidden=\"true\" class=\"instagram-icon\" fill=\"\" height=\"64\" style=\"outline:0\" viewbox=\"0 0 64 64\" width=\"64\" xmlns=\"https://www.w3.org/2000/svg\"><path d=\"M47,13.2c-1.9,0-3.5,1.6-3.5,3.6s1.6,3.6,3.5,3.6s3.5-1.6,3.5-3.6S49,13.2,47,13.2 L47,13.2z M31.9,23c-5.1,0-9.3,4.3-9.3,9.5s4.2,9.5,9.3,9.5s9.3-4.3,9.3-9.5S37,23,31.9,23L31.9,23z M31.9,46.7 c-7.7,0-14-6.4-14-14.2s6.3-14.2,14-14.2s14,6.4,14,14.2S39.6,46.7,31.9,46.7L31.9,46.7z M15.7,8.8c-3.9,0-7,3.2-7,7.1v33.2 c0,3.9,3.1,7.1,7,7.1h32.7c3.9,0,7-3.2,7-7.1V15.9c0-3.9-3.1-7.1-7-7.1C48.4,8.8,15.7,8.8,15.7,8.8z M48.3,60.9H15.7 C9.2,60.9,4,55.6,4,49.1V15.9C4,9.4,9.2,4.1,15.7,4.1h32.7C54.8,4.1,60,9.4,60,15.9v33.2C60,55.6,54.8,60.9,48.3,60.9L48.3,60.9z\"></path></svg></a>, <a class=\"sc-jzJRlG sc-kgoBCf lfhLAG\" data-analytics=\"footer\" href=\"/terms\" mode=\"dark\" name=\"terms-of-use\" title=\"visit the Terms of Use section\" type=\"condensed\">Terms of Use</a>, <a class=\"sc-jzJRlG sc-kgoBCf lfhLAG\" data-analytics=\"footer\" href=\"/privacy\" mode=\"dark\" name=\"privacy-policy\" title=\"visit the Privacy Policy section\" type=\"condensed\">Privacy Policy</a>, <a class=\"sc-jzJRlG sc-kgoBCf lfhLAG\" data-analytics=\"footer\" href=\"/accessibility\" mode=\"dark\" name=\"accessibility\" title=\"visit the Accessibility &amp; CC section\" type=\"condensed\">Accessibility &amp; CC</a>, <a class=\"sc-jzJRlG sc-kgoBCf lfhLAG\" data-analytics=\"footer\" href=\"#\" mode=\"dark\" name=\"adchoices\" title=\"visit the AdChoices section\" type=\"condensed\">AdChoices</a>, <a class=\"sc-jzJRlG sc-kgoBCf lfhLAG\" data-analytics=\"footer\" href=\"/about\" mode=\"dark\" name=\"about-us\" title=\"visit the About Us section\" type=\"condensed\">About Us</a>, <a class=\"sc-jzJRlG sc-kgoBCf lfhLAG\" data-analytics=\"footer\" href=\"/msa\" mode=\"dark\" name=\"modern-slavery-act-statement\" title=\"visit the Modern Slavery Act Statement section\" type=\"condensed\">Modern Slavery Act Statement</a>, <a class=\"sc-jzJRlG sc-kgoBCf lfhLAG\" data-analytics=\"footer\" href=\"https://commercial.cnn.com\" mode=\"dark\" name=\"advertise-with-us\" title=\"visit the Advertise with us section\" type=\"condensed\">Advertise with us</a>, <a class=\"sc-jzJRlG sc-kgoBCf lfhLAG\" data-analytics=\"footer\" href=\"//store.cnn.com\" mode=\"dark\" name=\"cnn-store\" title=\"visit the CNN Store section\" type=\"condensed\">CNN Store</a>, <a class=\"sc-jzJRlG sc-kgoBCf lfhLAG\" data-analytics=\"footer\" href=\"/newsletters\" mode=\"dark\" name=\"newsletters\" title=\"visit the Newsletters section\" type=\"condensed\">Newsletters</a>, <a class=\"sc-jzJRlG sc-kgoBCf lfhLAG\" data-analytics=\"footer\" href=\"/transcripts\" mode=\"dark\" name=\"transcripts\" title=\"visit the Transcripts section\" type=\"condensed\">Transcripts</a>, <a class=\"sc-jzJRlG sc-kgoBCf lfhLAG\" data-analytics=\"footer\" href=\"/collection\" mode=\"dark\" name=\"license-footage\" title=\"visit the License Footage section\" type=\"condensed\">License Footage</a>, <a class=\"sc-jzJRlG sc-kgoBCf lfhLAG\" data-analytics=\"footer\" href=\"http://cnnnewsource.com\" mode=\"dark\" name=\"cnn-newsource\" title=\"visit the CNN Newsource section\" type=\"condensed\">CNN Newsource</a>, <a class=\"sc-jzJRlG sc-kgoBCf lfhLAG\" data-analytics=\"footer\" href=\"https://www.cnn.com/sitemap.html\" mode=\"dark\" name=\"sitemap\" title=\"visit the Sitemap section\" type=\"condensed\">Sitemap</a>, <a class=\"Text-sc-1amvtpj-0-a Link-sc-1hkqz5e-0 sc-VigVT iSUYmU\" color=\"#0C0C0C\" data-analytics=\"footer_turner-broadcasting-systeinc\" href=\"//www.turner.com\" mode=\"dark\" title=\"Turner Broadcasting System, Inc.\">Turner Broadcasting System, Inc.</a>]\n",
      "\n"
     ]
    }
   ],
   "source": [
    "news_box=soup.find_all('a')\n",
    "print(news_box)\n",
    "print()"
   ]
  },
  {
   "cell_type": "code",
   "execution_count": 16,
   "metadata": {},
   "outputs": [
    {
     "name": "stdout",
     "output_type": "stream",
     "text": [
      "https://edition.cnn.com/\n",
      "https://edition.cnn.com/world\n",
      "https://edition.cnn.com/politics\n",
      "https://edition.cnn.com/business\n",
      "https://edition.cnn.com/health\n",
      "https://edition.cnn.com/entertainment\n",
      "https://edition.cnn.com/style\n",
      "https://edition.cnn.com/travel\n",
      "https://edition.cnn.com/sport\n",
      "https://edition.cnn.com/videos\n",
      "https://edition.cnn.com//us.cnn.com?hpt=header_edition-picker\n",
      "https://edition.cnn.com//edition.cnn.com?hpt=header_edition-picker\n",
      "https://edition.cnn.com//arabic.cnn.com?hpt=header_edition-picker\n",
      "https://edition.cnn.com//cnnespanol.cnn.com?hpt=header_edition-picker\n",
      "https://edition.cnn.com//us.cnn.com?hpt=header_edition-picker\n",
      "https://edition.cnn.com//edition.cnn.com?hpt=header_edition-picker\n",
      "https://edition.cnn.com//arabic.cnn.com?hpt=header_edition-picker\n",
      "https://edition.cnn.com//cnnespanol.cnn.com?hpt=header_edition-picker\n",
      "https://edition.cnn.com/world\n",
      "https://edition.cnn.com/africa\n",
      "https://edition.cnn.com/americas\n",
      "https://edition.cnn.com/asia\n",
      "https://edition.cnn.com/australia\n",
      "https://edition.cnn.com/china\n",
      "https://edition.cnn.com/europe\n",
      "https://edition.cnn.com/india\n",
      "https://edition.cnn.com/middle-east\n",
      "https://edition.cnn.com/uk\n",
      "https://edition.cnn.com/politics\n",
      "https://edition.cnn.com/election/2020\n",
      "https://edition.cnn.com/specials/politics/president-donald-trump-45\n",
      "https://edition.cnn.com/specials/politics/supreme-court-nine\n",
      "https://edition.cnn.com/specials/politics/congress\n",
      "https://edition.cnn.com/specials/politics/fact-check-politics\n",
      "https://edition.cnn.com/business\n",
      "https://edition.cnn.comhttps://money.cnn.com/data/markets/\n",
      "https://edition.cnn.com/business/tech\n",
      "https://edition.cnn.com/business/media\n",
      "https://edition.cnn.com/business/success\n",
      "https://edition.cnn.com/business/perspectives\n",
      "https://edition.cnn.com/business/videos\n",
      "https://edition.cnn.com/health\n",
      "https://edition.cnn.com/specials/health/food-diet\n",
      "https://edition.cnn.com/specials/health/fitness-excercise\n",
      "https://edition.cnn.com/specials/health/wellness\n",
      "https://edition.cnn.com/specials/health/parenting\n",
      "https://edition.cnn.com/specials/health/vital-signs\n",
      "https://edition.cnn.com/entertainment\n",
      "https://edition.cnn.com/entertainment/celebrities\n",
      "https://edition.cnn.com/entertainment/movies\n",
      "https://edition.cnn.com/entertainment/tv-shows\n",
      "https://edition.cnn.com/entertainment/culture\n",
      "https://edition.cnn.com/business/media\n",
      "https://edition.cnn.com/business/tech\n",
      "https://edition.cnn.com/specials/tech/innovate\n",
      "https://edition.cnn.com/specials/tech/gadget\n",
      "https://edition.cnn.com/specials/tech/foreseeable-future\n",
      "https://edition.cnn.com/specials/tech/mission-ahead\n",
      "https://edition.cnn.com/specials/tech/upstarts\n",
      "https://edition.cnn.com/specials/tech/work-transformed\n",
      "https://edition.cnn.com/specials/tech/innovative-cities\n",
      "https://edition.cnn.com/style\n",
      "https://edition.cnn.com/style/arts\n",
      "https://edition.cnn.com/style/design\n",
      "https://edition.cnn.com/style/fashion\n",
      "https://edition.cnn.com/style/architecture\n",
      "https://edition.cnn.com/style/luxury\n",
      "https://edition.cnn.com/style/beauty\n",
      "https://edition.cnn.com/style/videos\n",
      "https://edition.cnn.com/travel\n",
      "https://edition.cnn.com/travel/destinations\n",
      "https://edition.cnn.com/travel/food-and-drink\n",
      "https://edition.cnn.com/travel/stay\n",
      "https://edition.cnn.com/travel/news\n",
      "https://edition.cnn.com/travel/videos\n",
      "https://edition.cnn.com/sport\n",
      "https://edition.cnn.com/sport/football\n",
      "https://edition.cnn.com/sport/tennis\n",
      "https://edition.cnn.com/sport/equestrian\n",
      "https://edition.cnn.com/sport/golf\n",
      "https://edition.cnn.com/sport/skiing\n",
      "https://edition.cnn.com/sport/horse-racing\n",
      "https://edition.cnn.com/sport/motorsport\n",
      "https://edition.cnn.com/specials/sport/formula-e\n",
      "https://edition.cnn.com/specials/esports\n",
      "https://edition.cnn.com/videos\n",
      "https://edition.cnn.com//cnn.it/go2\n",
      "https://edition.cnn.com/specials/digital-studios\n",
      "https://edition.cnn.com/specials/videos/digital-shorts\n",
      "https://edition.cnn.com/specials/videos/hln\n",
      "https://edition.cnn.com/tv/schedule/cnn\n",
      "https://edition.cnn.com/specials/tv/all-shows\n",
      "https://edition.cnn.com/vr\n",
      "https://edition.cnn.com/specials\n",
      "https://edition.cnn.com/interactive/call-to-earth\n",
      "https://edition.cnn.com/specials/world/freedom-project\n",
      "https://edition.cnn.com/specials/impact-your-world\n",
      "https://edition.cnn.com/specials/africa/inside-africa\n",
      "https://edition.cnn.com/specials/opinions/two-degrees\n",
      "https://edition.cnn.com/specials/cnn-heroes\n",
      "https://edition.cnn.com/specials\n",
      "https://edition.cnn.com/more\n",
      "https://edition.cnn.com/specials/photos\n",
      "https://edition.cnn.com/specials/cnn-longform\n",
      "https://edition.cnn.com/specials/cnn-investigates\n",
      "https://edition.cnn.com/specials/profiles\n",
      "https://edition.cnn.com/specials/more/cnn-leadership\n",
      "https://edition.cnn.com/email/subscription\n",
      "https://edition.cnn.comhttps://www.turnerjobs.com/search-jobs?orgIds=1174&ac=19299\n",
      "https://edition.cnn.com/weather\n",
      "https://edition.cnn.com/specials/world/cnn-climate\n",
      "https://edition.cnn.com/interactive/2020/weather/gonzalo-storm-path-tracker/index.html\n",
      "https://edition.cnn.com/specials/weather/weather-video\n",
      "https://edition.cnn.com//facebook.com/cnninternational\n",
      "https://edition.cnn.com//twitter.com/cnni\n",
      "https://edition.cnn.com//instagram.com/cnn\n",
      "https://edition.cnn.com/world\n",
      "https://edition.cnn.com/africa\n",
      "https://edition.cnn.com/americas\n",
      "https://edition.cnn.com/asia\n",
      "https://edition.cnn.com/australia\n",
      "https://edition.cnn.com/china\n",
      "https://edition.cnn.com/europe\n",
      "https://edition.cnn.com/india\n",
      "https://edition.cnn.com/middle-east\n",
      "https://edition.cnn.com/uk\n",
      "https://edition.cnn.com/politics\n",
      "https://edition.cnn.com/election/2020\n",
      "https://edition.cnn.com/specials/politics/president-donald-trump-45\n",
      "https://edition.cnn.com/specials/politics/supreme-court-nine\n",
      "https://edition.cnn.com/specials/politics/congress\n",
      "https://edition.cnn.com/specials/politics/fact-check-politics\n",
      "https://edition.cnn.com/business\n",
      "https://edition.cnn.comhttps://money.cnn.com/data/markets/\n",
      "https://edition.cnn.com/business/tech\n",
      "https://edition.cnn.com/business/media\n",
      "https://edition.cnn.com/business/success\n",
      "https://edition.cnn.com/business/perspectives\n",
      "https://edition.cnn.com/business/videos\n",
      "https://edition.cnn.com/health\n",
      "https://edition.cnn.com/specials/health/food-diet\n",
      "https://edition.cnn.com/specials/health/fitness-excercise\n",
      "https://edition.cnn.com/specials/health/wellness\n",
      "https://edition.cnn.com/specials/health/parenting\n",
      "https://edition.cnn.com/specials/health/vital-signs\n",
      "https://edition.cnn.com/entertainment\n",
      "https://edition.cnn.com/entertainment/celebrities\n",
      "https://edition.cnn.com/entertainment/movies\n",
      "https://edition.cnn.com/entertainment/tv-shows\n",
      "https://edition.cnn.com/entertainment/culture\n",
      "https://edition.cnn.com/business/media\n",
      "https://edition.cnn.com/business/tech\n",
      "https://edition.cnn.com/specials/tech/innovate\n",
      "https://edition.cnn.com/specials/tech/gadget\n",
      "https://edition.cnn.com/specials/tech/foreseeable-future\n",
      "https://edition.cnn.com/specials/tech/mission-ahead\n",
      "https://edition.cnn.com/specials/tech/upstarts\n",
      "https://edition.cnn.com/specials/tech/work-transformed\n",
      "https://edition.cnn.com/specials/tech/innovative-cities\n",
      "https://edition.cnn.com/style\n",
      "https://edition.cnn.com/style/arts\n",
      "https://edition.cnn.com/style/design\n",
      "https://edition.cnn.com/style/fashion\n",
      "https://edition.cnn.com/style/architecture\n",
      "https://edition.cnn.com/style/luxury\n",
      "https://edition.cnn.com/style/beauty\n",
      "https://edition.cnn.com/style/videos\n",
      "https://edition.cnn.com/travel\n",
      "https://edition.cnn.com/travel/destinations\n",
      "https://edition.cnn.com/travel/food-and-drink\n",
      "https://edition.cnn.com/travel/stay\n",
      "https://edition.cnn.com/travel/news\n",
      "https://edition.cnn.com/travel/videos\n",
      "https://edition.cnn.com/sport\n",
      "https://edition.cnn.com/sport/football\n",
      "https://edition.cnn.com/sport/tennis\n",
      "https://edition.cnn.com/sport/equestrian\n",
      "https://edition.cnn.com/sport/golf\n",
      "https://edition.cnn.com/sport/skiing\n",
      "https://edition.cnn.com/sport/horse-racing\n",
      "https://edition.cnn.com/sport/motorsport\n",
      "https://edition.cnn.com/specials/sport/formula-e\n",
      "https://edition.cnn.com/specials/esports\n",
      "https://edition.cnn.com/videos\n",
      "https://edition.cnn.com//cnn.it/go2\n",
      "https://edition.cnn.com/specials/digital-studios\n",
      "https://edition.cnn.com/specials/videos/digital-shorts\n",
      "https://edition.cnn.com/specials/videos/hln\n",
      "https://edition.cnn.com/tv/schedule/cnn\n",
      "https://edition.cnn.com/specials/tv/all-shows\n",
      "https://edition.cnn.com/vr\n",
      "https://edition.cnn.com/specials\n",
      "https://edition.cnn.com/interactive/call-to-earth\n",
      "https://edition.cnn.com/specials/world/freedom-project\n",
      "https://edition.cnn.com/specials/impact-your-world\n",
      "https://edition.cnn.com/specials/africa/inside-africa\n",
      "https://edition.cnn.com/specials/opinions/two-degrees\n",
      "https://edition.cnn.com/specials/cnn-heroes\n",
      "https://edition.cnn.com/specials\n",
      "https://edition.cnn.com/more\n",
      "https://edition.cnn.com/specials/photos\n",
      "https://edition.cnn.com/specials/cnn-longform\n",
      "https://edition.cnn.com/specials/cnn-investigates\n",
      "https://edition.cnn.com/specials/profiles\n",
      "https://edition.cnn.com/specials/more/cnn-leadership\n",
      "https://edition.cnn.com/email/subscription\n",
      "https://edition.cnn.comhttps://www.turnerjobs.com/search-jobs?orgIds=1174&ac=19299\n",
      "https://edition.cnn.com/weather\n",
      "https://edition.cnn.com/specials/world/cnn-climate\n",
      "https://edition.cnn.com/interactive/2020/weather/gonzalo-storm-path-tracker/index.html\n",
      "https://edition.cnn.com/specials/weather/weather-video\n",
      "https://edition.cnn.com/\n",
      "https://edition.cnn.com//facebook.com/cnninternational\n",
      "https://edition.cnn.com//twitter.com/cnni\n",
      "https://edition.cnn.com//instagram.com/cnn\n",
      "https://edition.cnn.com/terms\n",
      "https://edition.cnn.com/privacy\n",
      "https://edition.cnn.com/accessibility\n",
      "https://edition.cnn.com#\n",
      "https://edition.cnn.com/about\n",
      "https://edition.cnn.com/msa\n",
      "https://edition.cnn.comhttps://commercial.cnn.com\n",
      "https://edition.cnn.com//store.cnn.com\n",
      "https://edition.cnn.com/newsletters\n",
      "https://edition.cnn.com/transcripts\n",
      "https://edition.cnn.com/collection\n",
      "https://edition.cnn.comhttp://cnnnewsource.com\n",
      "https://edition.cnn.comhttps://www.cnn.com/sitemap.html\n",
      "https://edition.cnn.com//www.turner.com\n",
      "229\n"
     ]
    }
   ],
   "source": [
    "i=0\n",
    "for news in news_box:\n",
    "    print(\"https://edition.cnn.com\"+news['href'])\n",
    "    i=i+1\n",
    "print(i)"
   ]
  },
  {
   "cell_type": "code",
   "execution_count": 12,
   "metadata": {},
   "outputs": [
    {
     "name": "stdout",
     "output_type": "stream",
     "text": [
      "0\n"
     ]
    }
   ],
   "source": [
    "news_box=soup.find_all('a',{'class': 'Card-mediaContainer'})\n",
    "i=0\n",
    "for news in news_box:\n",
    "    print(news['href'])\n",
    "    print()\n",
    "    i=i+1\n",
    "print(i)"
   ]
  },
  {
   "cell_type": "code",
   "execution_count": null,
   "metadata": {},
   "outputs": [],
   "source": []
  },
  {
   "cell_type": "code",
   "execution_count": 45,
   "metadata": {},
   "outputs": [
    {
     "name": "stdout",
     "output_type": "stream",
     "text": [
      "The latest installment of the long duel between Barack Obama and Donald Trump perfectly exemplified the jarring contrasts in personal and political temperaments of the two defining White House residents of this age. And it took their rivalry to a level unprecedented in the modern history of the presidency.Obama -- serious and intellectual -- delivered a complex constitutional lecture on primetime television during the virtual Democratic National Convention. He summoned historic sweep, encompassing the Founders, the Civil Rights Movement, America's immigrant heritage and young Americans he called to action today to save their freedoms just as their ancestors had done every time the country's promise was imperiled.READ: Obama's full speech to the Democratic National ConventionTrump meanwhile, back at the White House, was rage-tweeting in real time in all-caps, flinging wild accusations and lies that, if anything, provided contemporaneous evidence of his predecessor's somber warnings.In 2004, Obama made his name with the youthful, exuberant -- and perhaps naive -- hope of his address to the DNC. Sixteen years on, a grizzled Obama the elder warned America that it should expect a \"president to be the custodian of this democracy.\"\"We should expect that regardless of ego, ambition, or political beliefs, the president will preserve, protect, and defend the freedoms and ideals that so many Americans marched for and went to jail for; fought for and died for,\" he said.Obama, now a private citizen, has no formal power and no mandate to speak to the American people the way he did Wednesday night, at a virtual convention that in its crowd-free isolation served to underscore the grave nature of his message.But he carries the authority of his historic status, the moral weight of two White House terms and enduring popularity in the half of the country revolted by Trump's abuses of power, divisive racial politics and constant cultivation of his own ego.And Obama's breach of etiquette for retired presidents was preceded by years of Trump attacking him in ways never previously seen by an American presidential successor, with Trump routinely, baselessly accusing Obama of treason.The former President presented himself as a guardian of democracy, of 243 years of Constitutional norms and authority borrowed from the masses not imposed from a strongman leader from above.\"Do not let them take away your power. Don't let them take away your democracy,\" Obama said in a plea that was far deeper than a political leader's repudiation of the legacy destroying policies of his predecessor.\"Make a plan right now for how you're going to get involved and vote. Do it as early as you can and tell your family and friends how they can vote too,\" Obama said, accusing the Trump administration of suppressing the vote and counting on the cynicism of the people to guarantee four more years.\"What we do echoes through the generations,\" Obama said, in what amounted to probably the most watched lecture on America's constitutional heritage in history.A long-awaited salvoDemocrats have waited four years for Obama to speak up in such a way. But had he carried on a daily commentary on Trump's outrages, the former commander in chief's warning on Wednesday would have lacked impact as well as the stock of political capital his reticence built among sympathetic voters.He rebuked Trump in stunningly explicit terms for a member of the presidents club -- a fraternity the current commander in chief disdains.\"I never expected that my successor would embrace my vision or continue my policies. I did hope, for the sake of our country, that Donald Trump might show some interest in taking the job seriously; that he might come to feel the weight of the office and discover some reverence for the democracy that had been placed in his care,\" Obama said.\"But he never did. For close to four years now, he's shown no interest in putting in the work; no interest in finding common ground; no interest in using the awesome power of his office to help anyone but himself and his friends; no interest in treating the presidency as anything but one more reality show that he can use to get the attention he craves.\"Donald Trump hasn't grown into the job because he can't.\"It was a picture of Trump's presidency that is familiar from scores of tell-all books, insider and media accounts and the evidence of a publicity-hungry President who awards himself top marks even in a pandemic that has killed more than 170,000 Americans that he ignored, mismanaged and misrepresented.Obama's remarks did not come in a vacuum. Only hours earlier, Trump had all but endorsed the cult-like and nonsensical conspiracy theory QAnon from the White House podium. The President is spreading false claims about massive fraud in postal voting. He sought to coerce a foreign power into destroying the candidacy of Democratic nominee Joe Biden, for which he was impeached.Trump has ignored or attacked every institution that can hold him to account from Congress to the courts, the Justice Department, military brass and the press. He retweets Russian intelligence propaganda. Any restraining influences in his Cabinet have long since been purged. He may have already crushed the legitimacy of any Biden win in November by warning any election he loses will be \"rigged.\" White House press secretary Kayleigh McEnany refused hours earlier to state that the President would accept the result of the election. In any other administration this would be a defining scandal. In this White House it barely merited comment.In many ways, Trump's entire presidency has unfolded as an attempt to wipe Obama -- who he relentlessly attacked in a racist birther conspiracy that built his political movement -- from the pages of history. On Wednesday for instance, he made yet another attempt to destroy the Iran nuclear deal that is Obama's most significant foreign policy achievement.Trump's presidency can also be seen as a backlash to the social change on issues like LGBTQ rights, the introduction of a near universal health care system and the reality of a Black president during the Obama years.A battle that will define an eraWednesday's exchanges underscored how this election will decide whether the dominant political strain in America is the populist demagoguery and culturally White movement offered by Trump or the multi-cultural  aspirational crusade of Obama Democrats appealing to an increasingly diverse nation.The President's first response to the speech was to falsely accuse Obama of spying on him in 2016, after a new report from a Republican-led Senate committee confirmed multiple contacts between his campaign and Russia in 2016.\"HE SPIED ON MY CAMPAIGN, AND GOT CAUGHT!\" Trump tweeted, twisting the factual record about that previous election.The President's reaction was a reminder of how he has based his entire term on a tide of conspiracy, misinformation and demonstrable untruth.But it also hinted at a potential weakness of Obama's argument, one that has been made in less eloquent terms throughout the Democratic convention.Speaker after speaker has said that Trump is a bad president and lacks the emotional and cerebral qualities or the sense of national well-being and civic responsibility needed for the presidency.Obama got it half right when he said Trump didn't even try.But that is the entire point of Trump's presidency. He came to power determined to destroy the American status quo. Norms, laws, traditions mean nothing to him since the presidency is just another stage on which to pursue his personal goals and to dominate the airwaves and national life.His misbehavior and unconstitutional behavior that those who agree with Obama find disgraceful and threatening to the republic itself is the reason why millions of his followers -- angry at the elites they believe shore up a political system that ignores and disdains them -- are devoted to him.But Obama rejected defeatism about democracy and said time and again the ancestors of modern Americans had faced the same doubts -- from Dust Bowl farmers, to Italian and Irish immigrants, and Latinos and Jews and those repressed by Jim Crow segregation in the South -- but had resolved to make the American system work.\"Any chance of success\" now depends entirely on the outcome of this election, he said.\"This administration has shown it will tear our democracy down if that's what it takes to win,\"  he said, calling for a huge vote of support for the Democratic ticket of Joe Biden and Kamala Harris.\n"
     ]
    }
   ],
   "source": [
    "print(newsstr)"
   ]
  },
  {
   "cell_type": "code",
   "execution_count": 53,
   "metadata": {},
   "outputs": [],
   "source": [
    "fields = ['Authors', 'Time', 'URL', 'Contents', 'Title'] \n",
    "filename = \"news_dataset.csv\"\n",
    "rowsData=[news_author[\"content\"],news_time.text,url,newsstr,soup.title.string]\n",
    "\n"
   ]
  },
  {
   "cell_type": "code",
   "execution_count": 54,
   "metadata": {},
   "outputs": [],
   "source": [
    "with open(filename, 'w') as csvfile:\n",
    "    csvwriter=csv.writer(csvfile)\n",
    "    csvwriter.writerow(fields)\n",
    "    csvwriter.writerow(rowsData)"
   ]
  }
 ],
 "metadata": {
  "kernelspec": {
   "display_name": "Python 3",
   "language": "python",
   "name": "python3"
  },
  "language_info": {
   "codemirror_mode": {
    "name": "ipython",
    "version": 3
   },
   "file_extension": ".py",
   "mimetype": "text/x-python",
   "name": "python",
   "nbconvert_exporter": "python",
   "pygments_lexer": "ipython3",
   "version": "3.7.5"
  }
 },
 "nbformat": 4,
 "nbformat_minor": 4
}
