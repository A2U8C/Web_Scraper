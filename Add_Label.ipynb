{
 "cells": [
  {
   "cell_type": "code",
   "execution_count": 16,
   "metadata": {},
   "outputs": [],
   "source": [
    "import pandas as pd\n",
    "import numpy as np"
   ]
  },
  {
   "cell_type": "code",
   "execution_count": 24,
   "metadata": {},
   "outputs": [],
   "source": [
    "df = pd.DataFrame(pd.read_excel('Final_RealNewsDataset.xlsx'))"
   ]
  },
  {
   "cell_type": "code",
   "execution_count": 25,
   "metadata": {},
   "outputs": [],
   "source": [
    "all_data = pd.DataFrame()\n",
    "all_data = all_data.append(df,ignore_index=True)"
   ]
  },
  {
   "cell_type": "code",
   "execution_count": 26,
   "metadata": {},
   "outputs": [
    {
     "data": {
      "text/html": [
       "<div>\n",
       "<style scoped>\n",
       "    .dataframe tbody tr th:only-of-type {\n",
       "        vertical-align: middle;\n",
       "    }\n",
       "\n",
       "    .dataframe tbody tr th {\n",
       "        vertical-align: top;\n",
       "    }\n",
       "\n",
       "    .dataframe thead th {\n",
       "        text-align: right;\n",
       "    }\n",
       "</style>\n",
       "<table border=\"1\" class=\"dataframe\">\n",
       "  <thead>\n",
       "    <tr style=\"text-align: right;\">\n",
       "      <th></th>\n",
       "      <th>Unnamed: 0</th>\n",
       "      <th>Unnamed: 0.1</th>\n",
       "      <th>author</th>\n",
       "      <th>date</th>\n",
       "      <th>text</th>\n",
       "      <th>title</th>\n",
       "      <th>url</th>\n",
       "    </tr>\n",
       "  </thead>\n",
       "  <tbody>\n",
       "    <tr>\n",
       "      <th>7080</th>\n",
       "      <td>1719</td>\n",
       "      <td>NaN</td>\n",
       "      <td>Reporting by Jonathan Landay; Additional repor...</td>\n",
       "      <td>May 30, 2020 /  9:02 PM / 3 months ago</td>\n",
       "      <td>WASHINGTON (Reuters) - U.S. President Donald T...</td>\n",
       "      <td>Trump says protesters would have met 'vicious ...</td>\n",
       "      <td>https://in.reuters.com/article/minneapolis-pol...</td>\n",
       "    </tr>\n",
       "    <tr>\n",
       "      <th>7081</th>\n",
       "      <td>1720</td>\n",
       "      <td>NaN</td>\n",
       "      <td>Reporting by Brad Heath and Idrees Ali; Editin...</td>\n",
       "      <td>May 30, 2020 /  11:32 PM / 3 months ago</td>\n",
       "      <td>WASHINGTON (Reuters) - U.S. President Donald T...</td>\n",
       "      <td>Trump says military could respond quickly to M...</td>\n",
       "      <td>https://in.reuters.com/article/minneapolis-pol...</td>\n",
       "    </tr>\n",
       "    <tr>\n",
       "      <th>7082</th>\n",
       "      <td>1721</td>\n",
       "      <td>NaN</td>\n",
       "      <td>Additional reporting by Devjyot Ghoshal, Aftab...</td>\n",
       "      <td>May 30, 2020 /  2:56 PM / 3 months ago</td>\n",
       "      <td>NEW DELHI (Reuters) - India extended its coron...</td>\n",
       "      <td>India extends lockdown in high-risk zones, to ...</td>\n",
       "      <td>https://in.reuters.com/article/health-coronavi...</td>\n",
       "    </tr>\n",
       "    <tr>\n",
       "      <th>7083</th>\n",
       "      <td>1722</td>\n",
       "      <td>NaN</td>\n",
       "      <td>Reporting by Frank Pingue in Toronto; Editing ...</td>\n",
       "      <td>May 29, 2020 /  9:50 PM / 3 months ago</td>\n",
       "      <td>(Reuters) - Roger Federer is the world’s highe...</td>\n",
       "      <td>Federer is the world's highest-paid athlete, s...</td>\n",
       "      <td>https://in.reuters.com/article/sport-forbes/fe...</td>\n",
       "    </tr>\n",
       "    <tr>\n",
       "      <th>7084</th>\n",
       "      <td>1723</td>\n",
       "      <td>NaN</td>\n",
       "      <td>Reporting by Jessie Pang and Greg Torode; Addi...</td>\n",
       "      <td>May 30, 2020 /  6:46 AM / 3 months ago</td>\n",
       "      <td>HONG KONG (Reuters) - Hong Kong officials lash...</td>\n",
       "      <td>Hong Kong officials say Trump 'completely wron...</td>\n",
       "      <td>https://in.reuters.com/article/hongkong-protes...</td>\n",
       "    </tr>\n",
       "  </tbody>\n",
       "</table>\n",
       "</div>"
      ],
      "text/plain": [
       "      Unnamed: 0  Unnamed: 0.1  \\\n",
       "7080        1719           NaN   \n",
       "7081        1720           NaN   \n",
       "7082        1721           NaN   \n",
       "7083        1722           NaN   \n",
       "7084        1723           NaN   \n",
       "\n",
       "                                                 author  \\\n",
       "7080  Reporting by Jonathan Landay; Additional repor...   \n",
       "7081  Reporting by Brad Heath and Idrees Ali; Editin...   \n",
       "7082  Additional reporting by Devjyot Ghoshal, Aftab...   \n",
       "7083  Reporting by Frank Pingue in Toronto; Editing ...   \n",
       "7084  Reporting by Jessie Pang and Greg Torode; Addi...   \n",
       "\n",
       "                                         date  \\\n",
       "7080   May 30, 2020 /  9:02 PM / 3 months ago   \n",
       "7081  May 30, 2020 /  11:32 PM / 3 months ago   \n",
       "7082   May 30, 2020 /  2:56 PM / 3 months ago   \n",
       "7083   May 29, 2020 /  9:50 PM / 3 months ago   \n",
       "7084   May 30, 2020 /  6:46 AM / 3 months ago   \n",
       "\n",
       "                                                   text  \\\n",
       "7080  WASHINGTON (Reuters) - U.S. President Donald T...   \n",
       "7081  WASHINGTON (Reuters) - U.S. President Donald T...   \n",
       "7082  NEW DELHI (Reuters) - India extended its coron...   \n",
       "7083  (Reuters) - Roger Federer is the world’s highe...   \n",
       "7084  HONG KONG (Reuters) - Hong Kong officials lash...   \n",
       "\n",
       "                                                  title  \\\n",
       "7080  Trump says protesters would have met 'vicious ...   \n",
       "7081  Trump says military could respond quickly to M...   \n",
       "7082  India extends lockdown in high-risk zones, to ...   \n",
       "7083  Federer is the world's highest-paid athlete, s...   \n",
       "7084  Hong Kong officials say Trump 'completely wron...   \n",
       "\n",
       "                                                    url  \n",
       "7080  https://in.reuters.com/article/minneapolis-pol...  \n",
       "7081  https://in.reuters.com/article/minneapolis-pol...  \n",
       "7082  https://in.reuters.com/article/health-coronavi...  \n",
       "7083  https://in.reuters.com/article/sport-forbes/fe...  \n",
       "7084  https://in.reuters.com/article/hongkong-protes...  "
      ]
     },
     "execution_count": 26,
     "metadata": {},
     "output_type": "execute_result"
    }
   ],
   "source": [
    "all_data.tail()"
   ]
  },
  {
   "cell_type": "code",
   "execution_count": 27,
   "metadata": {},
   "outputs": [],
   "source": [
    "df2 = df.assign(Label = 1)"
   ]
  },
  {
   "cell_type": "code",
   "execution_count": 28,
   "metadata": {},
   "outputs": [],
   "source": [
    "all_data = pd.DataFrame()\n",
    "all_data = all_data.append(df2,ignore_index=True)"
   ]
  },
  {
   "cell_type": "code",
   "execution_count": 29,
   "metadata": {},
   "outputs": [],
   "source": [
    "all_data.to_excel('Final_RealNewsDataset_with_Label.xlsx')"
   ]
  }
 ],
 "metadata": {
  "kernelspec": {
   "display_name": "Python 3",
   "language": "python",
   "name": "python3"
  },
  "language_info": {
   "codemirror_mode": {
    "name": "ipython",
    "version": 3
   },
   "file_extension": ".py",
   "mimetype": "text/x-python",
   "name": "python",
   "nbconvert_exporter": "python",
   "pygments_lexer": "ipython3",
   "version": "3.7.5"
  }
 },
 "nbformat": 4,
 "nbformat_minor": 4
}
