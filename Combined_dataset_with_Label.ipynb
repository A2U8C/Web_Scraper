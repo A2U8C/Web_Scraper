{
 "cells": [
  {
   "cell_type": "code",
   "execution_count": 6,
   "metadata": {},
   "outputs": [],
   "source": [
    "import pandas as pd\n",
    "import numpy as np"
   ]
  },
  {
   "cell_type": "code",
   "execution_count": 7,
   "metadata": {},
   "outputs": [
    {
     "data": {
      "text/plain": [
       "['Final_Fake_Dataset_with_Label.xlsx', 'Final_RealNewsDataset_with_Label.xlsx']"
      ]
     },
     "execution_count": 7,
     "metadata": {},
     "output_type": "execute_result"
    }
   ],
   "source": [
    "import glob\n",
    "glob.glob(\"*.xlsx\")"
   ]
  },
  {
   "cell_type": "code",
   "execution_count": 8,
   "metadata": {},
   "outputs": [],
   "source": [
    "all_data = pd.DataFrame()\n",
    "for f in glob.glob(\"*.xlsx\"):\n",
    "    df = pd.read_excel(f)\n",
    "    all_data = all_data.append(df,ignore_index=True)"
   ]
  },
  {
   "cell_type": "code",
   "execution_count": 9,
   "metadata": {},
   "outputs": [
    {
     "data": {
      "text/html": [
       "<div>\n",
       "<style scoped>\n",
       "    .dataframe tbody tr th:only-of-type {\n",
       "        vertical-align: middle;\n",
       "    }\n",
       "\n",
       "    .dataframe tbody tr th {\n",
       "        vertical-align: top;\n",
       "    }\n",
       "\n",
       "    .dataframe thead th {\n",
       "        text-align: right;\n",
       "    }\n",
       "</style>\n",
       "<table border=\"1\" class=\"dataframe\">\n",
       "  <thead>\n",
       "    <tr style=\"text-align: right;\">\n",
       "      <th></th>\n",
       "      <th>Unnamed: 0</th>\n",
       "      <th>Title</th>\n",
       "      <th>Date</th>\n",
       "      <th>Page_URL</th>\n",
       "      <th>Content</th>\n",
       "      <th>Author</th>\n",
       "      <th>Label</th>\n",
       "    </tr>\n",
       "  </thead>\n",
       "  <tbody>\n",
       "    <tr>\n",
       "      <th>15345</th>\n",
       "      <td>7080</td>\n",
       "      <td>Trump says protesters would have met 'vicious ...</td>\n",
       "      <td>May 30, 2020 /  9:02 PM / 3 months ago</td>\n",
       "      <td>https://in.reuters.com/article/minneapolis-pol...</td>\n",
       "      <td>WASHINGTON (Reuters) - U.S. President Donald T...</td>\n",
       "      <td>Reporting by Jonathan Landay; Additional repor...</td>\n",
       "      <td>1</td>\n",
       "    </tr>\n",
       "    <tr>\n",
       "      <th>15346</th>\n",
       "      <td>7081</td>\n",
       "      <td>Trump says military could respond quickly to M...</td>\n",
       "      <td>May 30, 2020 /  11:32 PM / 3 months ago</td>\n",
       "      <td>https://in.reuters.com/article/minneapolis-pol...</td>\n",
       "      <td>WASHINGTON (Reuters) - U.S. President Donald T...</td>\n",
       "      <td>Reporting by Brad Heath and Idrees Ali; Editin...</td>\n",
       "      <td>1</td>\n",
       "    </tr>\n",
       "    <tr>\n",
       "      <th>15347</th>\n",
       "      <td>7082</td>\n",
       "      <td>India extends lockdown in high-risk zones, to ...</td>\n",
       "      <td>May 30, 2020 /  2:56 PM / 3 months ago</td>\n",
       "      <td>https://in.reuters.com/article/health-coronavi...</td>\n",
       "      <td>NEW DELHI (Reuters) - India extended its coron...</td>\n",
       "      <td>Additional reporting by Devjyot Ghoshal, Aftab...</td>\n",
       "      <td>1</td>\n",
       "    </tr>\n",
       "    <tr>\n",
       "      <th>15348</th>\n",
       "      <td>7083</td>\n",
       "      <td>Federer is the world's highest-paid athlete, s...</td>\n",
       "      <td>May 29, 2020 /  9:50 PM / 3 months ago</td>\n",
       "      <td>https://in.reuters.com/article/sport-forbes/fe...</td>\n",
       "      <td>(Reuters) - Roger Federer is the world’s highe...</td>\n",
       "      <td>Reporting by Frank Pingue in Toronto; Editing ...</td>\n",
       "      <td>1</td>\n",
       "    </tr>\n",
       "    <tr>\n",
       "      <th>15349</th>\n",
       "      <td>7084</td>\n",
       "      <td>Hong Kong officials say Trump 'completely wron...</td>\n",
       "      <td>May 30, 2020 /  6:46 AM / 3 months ago</td>\n",
       "      <td>https://in.reuters.com/article/hongkong-protes...</td>\n",
       "      <td>HONG KONG (Reuters) - Hong Kong officials lash...</td>\n",
       "      <td>Reporting by Jessie Pang and Greg Torode; Addi...</td>\n",
       "      <td>1</td>\n",
       "    </tr>\n",
       "  </tbody>\n",
       "</table>\n",
       "</div>"
      ],
      "text/plain": [
       "       Unnamed: 0                                              Title  \\\n",
       "15345        7080  Trump says protesters would have met 'vicious ...   \n",
       "15346        7081  Trump says military could respond quickly to M...   \n",
       "15347        7082  India extends lockdown in high-risk zones, to ...   \n",
       "15348        7083  Federer is the world's highest-paid athlete, s...   \n",
       "15349        7084  Hong Kong officials say Trump 'completely wron...   \n",
       "\n",
       "                                          Date  \\\n",
       "15345   May 30, 2020 /  9:02 PM / 3 months ago   \n",
       "15346  May 30, 2020 /  11:32 PM / 3 months ago   \n",
       "15347   May 30, 2020 /  2:56 PM / 3 months ago   \n",
       "15348   May 29, 2020 /  9:50 PM / 3 months ago   \n",
       "15349   May 30, 2020 /  6:46 AM / 3 months ago   \n",
       "\n",
       "                                                Page_URL  \\\n",
       "15345  https://in.reuters.com/article/minneapolis-pol...   \n",
       "15346  https://in.reuters.com/article/minneapolis-pol...   \n",
       "15347  https://in.reuters.com/article/health-coronavi...   \n",
       "15348  https://in.reuters.com/article/sport-forbes/fe...   \n",
       "15349  https://in.reuters.com/article/hongkong-protes...   \n",
       "\n",
       "                                                 Content  \\\n",
       "15345  WASHINGTON (Reuters) - U.S. President Donald T...   \n",
       "15346  WASHINGTON (Reuters) - U.S. President Donald T...   \n",
       "15347  NEW DELHI (Reuters) - India extended its coron...   \n",
       "15348  (Reuters) - Roger Federer is the world’s highe...   \n",
       "15349  HONG KONG (Reuters) - Hong Kong officials lash...   \n",
       "\n",
       "                                                  Author  Label  \n",
       "15345  Reporting by Jonathan Landay; Additional repor...      1  \n",
       "15346  Reporting by Brad Heath and Idrees Ali; Editin...      1  \n",
       "15347  Additional reporting by Devjyot Ghoshal, Aftab...      1  \n",
       "15348  Reporting by Frank Pingue in Toronto; Editing ...      1  \n",
       "15349  Reporting by Jessie Pang and Greg Torode; Addi...      1  "
      ]
     },
     "execution_count": 9,
     "metadata": {},
     "output_type": "execute_result"
    }
   ],
   "source": [
    "all_data.tail()"
   ]
  },
  {
   "cell_type": "code",
   "execution_count": 10,
   "metadata": {},
   "outputs": [],
   "source": [
    "all_data.drop(all_data.columns[0],axis=1,inplace=True)"
   ]
  },
  {
   "cell_type": "code",
   "execution_count": 11,
   "metadata": {},
   "outputs": [],
   "source": [
    "all_data.to_excel('Final_Dataset.xlsx')"
   ]
  },
  {
   "cell_type": "code",
   "execution_count": null,
   "metadata": {},
   "outputs": [],
   "source": []
  }
 ],
 "metadata": {
  "kernelspec": {
   "display_name": "Python 3",
   "language": "python",
   "name": "python3"
  },
  "language_info": {
   "codemirror_mode": {
    "name": "ipython",
    "version": 3
   },
   "file_extension": ".py",
   "mimetype": "text/x-python",
   "name": "python",
   "nbconvert_exporter": "python",
   "pygments_lexer": "ipython3",
   "version": "3.7.0"
  }
 },
 "nbformat": 4,
 "nbformat_minor": 4
}
